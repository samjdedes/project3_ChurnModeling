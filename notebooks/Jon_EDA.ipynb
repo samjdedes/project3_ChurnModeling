{
 "cells": [
  {
   "cell_type": "code",
   "execution_count": 1,
   "metadata": {},
   "outputs": [],
   "source": [
    "import pandas as pd\n",
    "import numpy as np"
   ]
  },
  {
   "cell_type": "code",
   "execution_count": 2,
   "metadata": {},
   "outputs": [],
   "source": [
    "df = pd.read_csv('../data/churn_data.csv')"
   ]
  },
  {
   "cell_type": "code",
   "execution_count": 3,
   "metadata": {},
   "outputs": [
    {
     "data": {
      "text/html": [
       "<div>\n",
       "<style scoped>\n",
       "    .dataframe tbody tr th:only-of-type {\n",
       "        vertical-align: middle;\n",
       "    }\n",
       "\n",
       "    .dataframe tbody tr th {\n",
       "        vertical-align: top;\n",
       "    }\n",
       "\n",
       "    .dataframe thead th {\n",
       "        text-align: right;\n",
       "    }\n",
       "</style>\n",
       "<table border=\"1\" class=\"dataframe\">\n",
       "  <thead>\n",
       "    <tr style=\"text-align: right;\">\n",
       "      <th></th>\n",
       "      <th>state</th>\n",
       "      <th>account length</th>\n",
       "      <th>area code</th>\n",
       "      <th>phone number</th>\n",
       "      <th>international plan</th>\n",
       "      <th>voice mail plan</th>\n",
       "      <th>number vmail messages</th>\n",
       "      <th>total day minutes</th>\n",
       "      <th>total day calls</th>\n",
       "      <th>total day charge</th>\n",
       "      <th>...</th>\n",
       "      <th>total eve calls</th>\n",
       "      <th>total eve charge</th>\n",
       "      <th>total night minutes</th>\n",
       "      <th>total night calls</th>\n",
       "      <th>total night charge</th>\n",
       "      <th>total intl minutes</th>\n",
       "      <th>total intl calls</th>\n",
       "      <th>total intl charge</th>\n",
       "      <th>customer service calls</th>\n",
       "      <th>churn</th>\n",
       "    </tr>\n",
       "  </thead>\n",
       "  <tbody>\n",
       "    <tr>\n",
       "      <th>0</th>\n",
       "      <td>KS</td>\n",
       "      <td>128</td>\n",
       "      <td>415</td>\n",
       "      <td>382-4657</td>\n",
       "      <td>no</td>\n",
       "      <td>yes</td>\n",
       "      <td>25</td>\n",
       "      <td>265.1</td>\n",
       "      <td>110</td>\n",
       "      <td>45.07</td>\n",
       "      <td>...</td>\n",
       "      <td>99</td>\n",
       "      <td>16.78</td>\n",
       "      <td>244.7</td>\n",
       "      <td>91</td>\n",
       "      <td>11.01</td>\n",
       "      <td>10.0</td>\n",
       "      <td>3</td>\n",
       "      <td>2.70</td>\n",
       "      <td>1</td>\n",
       "      <td>False</td>\n",
       "    </tr>\n",
       "    <tr>\n",
       "      <th>1</th>\n",
       "      <td>OH</td>\n",
       "      <td>107</td>\n",
       "      <td>415</td>\n",
       "      <td>371-7191</td>\n",
       "      <td>no</td>\n",
       "      <td>yes</td>\n",
       "      <td>26</td>\n",
       "      <td>161.6</td>\n",
       "      <td>123</td>\n",
       "      <td>27.47</td>\n",
       "      <td>...</td>\n",
       "      <td>103</td>\n",
       "      <td>16.62</td>\n",
       "      <td>254.4</td>\n",
       "      <td>103</td>\n",
       "      <td>11.45</td>\n",
       "      <td>13.7</td>\n",
       "      <td>3</td>\n",
       "      <td>3.70</td>\n",
       "      <td>1</td>\n",
       "      <td>False</td>\n",
       "    </tr>\n",
       "    <tr>\n",
       "      <th>2</th>\n",
       "      <td>NJ</td>\n",
       "      <td>137</td>\n",
       "      <td>415</td>\n",
       "      <td>358-1921</td>\n",
       "      <td>no</td>\n",
       "      <td>no</td>\n",
       "      <td>0</td>\n",
       "      <td>243.4</td>\n",
       "      <td>114</td>\n",
       "      <td>41.38</td>\n",
       "      <td>...</td>\n",
       "      <td>110</td>\n",
       "      <td>10.30</td>\n",
       "      <td>162.6</td>\n",
       "      <td>104</td>\n",
       "      <td>7.32</td>\n",
       "      <td>12.2</td>\n",
       "      <td>5</td>\n",
       "      <td>3.29</td>\n",
       "      <td>0</td>\n",
       "      <td>False</td>\n",
       "    </tr>\n",
       "    <tr>\n",
       "      <th>3</th>\n",
       "      <td>OH</td>\n",
       "      <td>84</td>\n",
       "      <td>408</td>\n",
       "      <td>375-9999</td>\n",
       "      <td>yes</td>\n",
       "      <td>no</td>\n",
       "      <td>0</td>\n",
       "      <td>299.4</td>\n",
       "      <td>71</td>\n",
       "      <td>50.90</td>\n",
       "      <td>...</td>\n",
       "      <td>88</td>\n",
       "      <td>5.26</td>\n",
       "      <td>196.9</td>\n",
       "      <td>89</td>\n",
       "      <td>8.86</td>\n",
       "      <td>6.6</td>\n",
       "      <td>7</td>\n",
       "      <td>1.78</td>\n",
       "      <td>2</td>\n",
       "      <td>False</td>\n",
       "    </tr>\n",
       "    <tr>\n",
       "      <th>4</th>\n",
       "      <td>OK</td>\n",
       "      <td>75</td>\n",
       "      <td>415</td>\n",
       "      <td>330-6626</td>\n",
       "      <td>yes</td>\n",
       "      <td>no</td>\n",
       "      <td>0</td>\n",
       "      <td>166.7</td>\n",
       "      <td>113</td>\n",
       "      <td>28.34</td>\n",
       "      <td>...</td>\n",
       "      <td>122</td>\n",
       "      <td>12.61</td>\n",
       "      <td>186.9</td>\n",
       "      <td>121</td>\n",
       "      <td>8.41</td>\n",
       "      <td>10.1</td>\n",
       "      <td>3</td>\n",
       "      <td>2.73</td>\n",
       "      <td>3</td>\n",
       "      <td>False</td>\n",
       "    </tr>\n",
       "  </tbody>\n",
       "</table>\n",
       "<p>5 rows × 21 columns</p>\n",
       "</div>"
      ],
      "text/plain": [
       "  state  account length  area code phone number international plan  \\\n",
       "0    KS             128        415     382-4657                 no   \n",
       "1    OH             107        415     371-7191                 no   \n",
       "2    NJ             137        415     358-1921                 no   \n",
       "3    OH              84        408     375-9999                yes   \n",
       "4    OK              75        415     330-6626                yes   \n",
       "\n",
       "  voice mail plan  number vmail messages  total day minutes  total day calls  \\\n",
       "0             yes                     25              265.1              110   \n",
       "1             yes                     26              161.6              123   \n",
       "2              no                      0              243.4              114   \n",
       "3              no                      0              299.4               71   \n",
       "4              no                      0              166.7              113   \n",
       "\n",
       "   total day charge  ...  total eve calls  total eve charge  \\\n",
       "0             45.07  ...               99             16.78   \n",
       "1             27.47  ...              103             16.62   \n",
       "2             41.38  ...              110             10.30   \n",
       "3             50.90  ...               88              5.26   \n",
       "4             28.34  ...              122             12.61   \n",
       "\n",
       "   total night minutes  total night calls  total night charge  \\\n",
       "0                244.7                 91               11.01   \n",
       "1                254.4                103               11.45   \n",
       "2                162.6                104                7.32   \n",
       "3                196.9                 89                8.86   \n",
       "4                186.9                121                8.41   \n",
       "\n",
       "   total intl minutes  total intl calls  total intl charge  \\\n",
       "0                10.0                 3               2.70   \n",
       "1                13.7                 3               3.70   \n",
       "2                12.2                 5               3.29   \n",
       "3                 6.6                 7               1.78   \n",
       "4                10.1                 3               2.73   \n",
       "\n",
       "   customer service calls  churn  \n",
       "0                       1  False  \n",
       "1                       1  False  \n",
       "2                       0  False  \n",
       "3                       2  False  \n",
       "4                       3  False  \n",
       "\n",
       "[5 rows x 21 columns]"
      ]
     },
     "execution_count": 3,
     "metadata": {},
     "output_type": "execute_result"
    }
   ],
   "source": [
    "df.head()"
   ]
  },
  {
   "cell_type": "code",
   "execution_count": 4,
   "metadata": {},
   "outputs": [],
   "source": [
    "#we need to convert our yes/no and true/false into 0's and 1's\n",
    "\n",
    "churn_dict = {False: 0, True: 1}\n",
    "yes_no_dict = {'no': 0, 'yes': 1}\n",
    "df['churn'].replace(churn_dict, inplace=True)\n",
    "df['international plan'].replace(yes_no_dict, inplace=True)\n",
    "df['voice mail plan'].replace(yes_no_dict, inplace=True)"
   ]
  },
  {
   "cell_type": "code",
   "execution_count": 5,
   "metadata": {},
   "outputs": [
    {
     "data": {
      "text/html": [
       "<div>\n",
       "<style scoped>\n",
       "    .dataframe tbody tr th:only-of-type {\n",
       "        vertical-align: middle;\n",
       "    }\n",
       "\n",
       "    .dataframe tbody tr th {\n",
       "        vertical-align: top;\n",
       "    }\n",
       "\n",
       "    .dataframe thead th {\n",
       "        text-align: right;\n",
       "    }\n",
       "</style>\n",
       "<table border=\"1\" class=\"dataframe\">\n",
       "  <thead>\n",
       "    <tr style=\"text-align: right;\">\n",
       "      <th></th>\n",
       "      <th>state</th>\n",
       "      <th>account length</th>\n",
       "      <th>area code</th>\n",
       "      <th>phone number</th>\n",
       "      <th>international plan</th>\n",
       "      <th>voice mail plan</th>\n",
       "      <th>number vmail messages</th>\n",
       "      <th>total day minutes</th>\n",
       "      <th>total day calls</th>\n",
       "      <th>total day charge</th>\n",
       "      <th>...</th>\n",
       "      <th>total eve calls</th>\n",
       "      <th>total eve charge</th>\n",
       "      <th>total night minutes</th>\n",
       "      <th>total night calls</th>\n",
       "      <th>total night charge</th>\n",
       "      <th>total intl minutes</th>\n",
       "      <th>total intl calls</th>\n",
       "      <th>total intl charge</th>\n",
       "      <th>customer service calls</th>\n",
       "      <th>churn</th>\n",
       "    </tr>\n",
       "  </thead>\n",
       "  <tbody>\n",
       "    <tr>\n",
       "      <th>0</th>\n",
       "      <td>KS</td>\n",
       "      <td>128</td>\n",
       "      <td>415</td>\n",
       "      <td>382-4657</td>\n",
       "      <td>0</td>\n",
       "      <td>1</td>\n",
       "      <td>25</td>\n",
       "      <td>265.1</td>\n",
       "      <td>110</td>\n",
       "      <td>45.07</td>\n",
       "      <td>...</td>\n",
       "      <td>99</td>\n",
       "      <td>16.78</td>\n",
       "      <td>244.7</td>\n",
       "      <td>91</td>\n",
       "      <td>11.01</td>\n",
       "      <td>10.0</td>\n",
       "      <td>3</td>\n",
       "      <td>2.70</td>\n",
       "      <td>1</td>\n",
       "      <td>0</td>\n",
       "    </tr>\n",
       "    <tr>\n",
       "      <th>1</th>\n",
       "      <td>OH</td>\n",
       "      <td>107</td>\n",
       "      <td>415</td>\n",
       "      <td>371-7191</td>\n",
       "      <td>0</td>\n",
       "      <td>1</td>\n",
       "      <td>26</td>\n",
       "      <td>161.6</td>\n",
       "      <td>123</td>\n",
       "      <td>27.47</td>\n",
       "      <td>...</td>\n",
       "      <td>103</td>\n",
       "      <td>16.62</td>\n",
       "      <td>254.4</td>\n",
       "      <td>103</td>\n",
       "      <td>11.45</td>\n",
       "      <td>13.7</td>\n",
       "      <td>3</td>\n",
       "      <td>3.70</td>\n",
       "      <td>1</td>\n",
       "      <td>0</td>\n",
       "    </tr>\n",
       "    <tr>\n",
       "      <th>2</th>\n",
       "      <td>NJ</td>\n",
       "      <td>137</td>\n",
       "      <td>415</td>\n",
       "      <td>358-1921</td>\n",
       "      <td>0</td>\n",
       "      <td>0</td>\n",
       "      <td>0</td>\n",
       "      <td>243.4</td>\n",
       "      <td>114</td>\n",
       "      <td>41.38</td>\n",
       "      <td>...</td>\n",
       "      <td>110</td>\n",
       "      <td>10.30</td>\n",
       "      <td>162.6</td>\n",
       "      <td>104</td>\n",
       "      <td>7.32</td>\n",
       "      <td>12.2</td>\n",
       "      <td>5</td>\n",
       "      <td>3.29</td>\n",
       "      <td>0</td>\n",
       "      <td>0</td>\n",
       "    </tr>\n",
       "    <tr>\n",
       "      <th>3</th>\n",
       "      <td>OH</td>\n",
       "      <td>84</td>\n",
       "      <td>408</td>\n",
       "      <td>375-9999</td>\n",
       "      <td>1</td>\n",
       "      <td>0</td>\n",
       "      <td>0</td>\n",
       "      <td>299.4</td>\n",
       "      <td>71</td>\n",
       "      <td>50.90</td>\n",
       "      <td>...</td>\n",
       "      <td>88</td>\n",
       "      <td>5.26</td>\n",
       "      <td>196.9</td>\n",
       "      <td>89</td>\n",
       "      <td>8.86</td>\n",
       "      <td>6.6</td>\n",
       "      <td>7</td>\n",
       "      <td>1.78</td>\n",
       "      <td>2</td>\n",
       "      <td>0</td>\n",
       "    </tr>\n",
       "    <tr>\n",
       "      <th>4</th>\n",
       "      <td>OK</td>\n",
       "      <td>75</td>\n",
       "      <td>415</td>\n",
       "      <td>330-6626</td>\n",
       "      <td>1</td>\n",
       "      <td>0</td>\n",
       "      <td>0</td>\n",
       "      <td>166.7</td>\n",
       "      <td>113</td>\n",
       "      <td>28.34</td>\n",
       "      <td>...</td>\n",
       "      <td>122</td>\n",
       "      <td>12.61</td>\n",
       "      <td>186.9</td>\n",
       "      <td>121</td>\n",
       "      <td>8.41</td>\n",
       "      <td>10.1</td>\n",
       "      <td>3</td>\n",
       "      <td>2.73</td>\n",
       "      <td>3</td>\n",
       "      <td>0</td>\n",
       "    </tr>\n",
       "  </tbody>\n",
       "</table>\n",
       "<p>5 rows × 21 columns</p>\n",
       "</div>"
      ],
      "text/plain": [
       "  state  account length  area code phone number  international plan  \\\n",
       "0    KS             128        415     382-4657                   0   \n",
       "1    OH             107        415     371-7191                   0   \n",
       "2    NJ             137        415     358-1921                   0   \n",
       "3    OH              84        408     375-9999                   1   \n",
       "4    OK              75        415     330-6626                   1   \n",
       "\n",
       "   voice mail plan  number vmail messages  total day minutes  total day calls  \\\n",
       "0                1                     25              265.1              110   \n",
       "1                1                     26              161.6              123   \n",
       "2                0                      0              243.4              114   \n",
       "3                0                      0              299.4               71   \n",
       "4                0                      0              166.7              113   \n",
       "\n",
       "   total day charge  ...  total eve calls  total eve charge  \\\n",
       "0             45.07  ...               99             16.78   \n",
       "1             27.47  ...              103             16.62   \n",
       "2             41.38  ...              110             10.30   \n",
       "3             50.90  ...               88              5.26   \n",
       "4             28.34  ...              122             12.61   \n",
       "\n",
       "   total night minutes  total night calls  total night charge  \\\n",
       "0                244.7                 91               11.01   \n",
       "1                254.4                103               11.45   \n",
       "2                162.6                104                7.32   \n",
       "3                196.9                 89                8.86   \n",
       "4                186.9                121                8.41   \n",
       "\n",
       "   total intl minutes  total intl calls  total intl charge  \\\n",
       "0                10.0                 3               2.70   \n",
       "1                13.7                 3               3.70   \n",
       "2                12.2                 5               3.29   \n",
       "3                 6.6                 7               1.78   \n",
       "4                10.1                 3               2.73   \n",
       "\n",
       "   customer service calls  churn  \n",
       "0                       1      0  \n",
       "1                       1      0  \n",
       "2                       0      0  \n",
       "3                       2      0  \n",
       "4                       3      0  \n",
       "\n",
       "[5 rows x 21 columns]"
      ]
     },
     "execution_count": 5,
     "metadata": {},
     "output_type": "execute_result"
    }
   ],
   "source": [
    "df.head()"
   ]
  },
  {
   "cell_type": "code",
   "execution_count": 6,
   "metadata": {},
   "outputs": [
    {
     "data": {
      "text/html": [
       "<div>\n",
       "<style scoped>\n",
       "    .dataframe tbody tr th:only-of-type {\n",
       "        vertical-align: middle;\n",
       "    }\n",
       "\n",
       "    .dataframe tbody tr th {\n",
       "        vertical-align: top;\n",
       "    }\n",
       "\n",
       "    .dataframe thead th {\n",
       "        text-align: right;\n",
       "    }\n",
       "</style>\n",
       "<table border=\"1\" class=\"dataframe\">\n",
       "  <thead>\n",
       "    <tr style=\"text-align: right;\">\n",
       "      <th></th>\n",
       "      <th>state</th>\n",
       "      <th>account length</th>\n",
       "      <th>international plan</th>\n",
       "      <th>voice mail plan</th>\n",
       "      <th>number vmail messages</th>\n",
       "      <th>total day minutes</th>\n",
       "      <th>total day calls</th>\n",
       "      <th>total day charge</th>\n",
       "      <th>total eve minutes</th>\n",
       "      <th>total eve calls</th>\n",
       "      <th>total eve charge</th>\n",
       "      <th>total night minutes</th>\n",
       "      <th>total night calls</th>\n",
       "      <th>total night charge</th>\n",
       "      <th>total intl minutes</th>\n",
       "      <th>total intl calls</th>\n",
       "      <th>total intl charge</th>\n",
       "      <th>customer service calls</th>\n",
       "      <th>churn</th>\n",
       "    </tr>\n",
       "  </thead>\n",
       "  <tbody>\n",
       "    <tr>\n",
       "      <th>0</th>\n",
       "      <td>KS</td>\n",
       "      <td>128</td>\n",
       "      <td>0</td>\n",
       "      <td>1</td>\n",
       "      <td>25</td>\n",
       "      <td>265.1</td>\n",
       "      <td>110</td>\n",
       "      <td>45.07</td>\n",
       "      <td>197.4</td>\n",
       "      <td>99</td>\n",
       "      <td>16.78</td>\n",
       "      <td>244.7</td>\n",
       "      <td>91</td>\n",
       "      <td>11.01</td>\n",
       "      <td>10.0</td>\n",
       "      <td>3</td>\n",
       "      <td>2.70</td>\n",
       "      <td>1</td>\n",
       "      <td>0</td>\n",
       "    </tr>\n",
       "    <tr>\n",
       "      <th>1</th>\n",
       "      <td>OH</td>\n",
       "      <td>107</td>\n",
       "      <td>0</td>\n",
       "      <td>1</td>\n",
       "      <td>26</td>\n",
       "      <td>161.6</td>\n",
       "      <td>123</td>\n",
       "      <td>27.47</td>\n",
       "      <td>195.5</td>\n",
       "      <td>103</td>\n",
       "      <td>16.62</td>\n",
       "      <td>254.4</td>\n",
       "      <td>103</td>\n",
       "      <td>11.45</td>\n",
       "      <td>13.7</td>\n",
       "      <td>3</td>\n",
       "      <td>3.70</td>\n",
       "      <td>1</td>\n",
       "      <td>0</td>\n",
       "    </tr>\n",
       "    <tr>\n",
       "      <th>2</th>\n",
       "      <td>NJ</td>\n",
       "      <td>137</td>\n",
       "      <td>0</td>\n",
       "      <td>0</td>\n",
       "      <td>0</td>\n",
       "      <td>243.4</td>\n",
       "      <td>114</td>\n",
       "      <td>41.38</td>\n",
       "      <td>121.2</td>\n",
       "      <td>110</td>\n",
       "      <td>10.30</td>\n",
       "      <td>162.6</td>\n",
       "      <td>104</td>\n",
       "      <td>7.32</td>\n",
       "      <td>12.2</td>\n",
       "      <td>5</td>\n",
       "      <td>3.29</td>\n",
       "      <td>0</td>\n",
       "      <td>0</td>\n",
       "    </tr>\n",
       "    <tr>\n",
       "      <th>3</th>\n",
       "      <td>OH</td>\n",
       "      <td>84</td>\n",
       "      <td>1</td>\n",
       "      <td>0</td>\n",
       "      <td>0</td>\n",
       "      <td>299.4</td>\n",
       "      <td>71</td>\n",
       "      <td>50.90</td>\n",
       "      <td>61.9</td>\n",
       "      <td>88</td>\n",
       "      <td>5.26</td>\n",
       "      <td>196.9</td>\n",
       "      <td>89</td>\n",
       "      <td>8.86</td>\n",
       "      <td>6.6</td>\n",
       "      <td>7</td>\n",
       "      <td>1.78</td>\n",
       "      <td>2</td>\n",
       "      <td>0</td>\n",
       "    </tr>\n",
       "    <tr>\n",
       "      <th>4</th>\n",
       "      <td>OK</td>\n",
       "      <td>75</td>\n",
       "      <td>1</td>\n",
       "      <td>0</td>\n",
       "      <td>0</td>\n",
       "      <td>166.7</td>\n",
       "      <td>113</td>\n",
       "      <td>28.34</td>\n",
       "      <td>148.3</td>\n",
       "      <td>122</td>\n",
       "      <td>12.61</td>\n",
       "      <td>186.9</td>\n",
       "      <td>121</td>\n",
       "      <td>8.41</td>\n",
       "      <td>10.1</td>\n",
       "      <td>3</td>\n",
       "      <td>2.73</td>\n",
       "      <td>3</td>\n",
       "      <td>0</td>\n",
       "    </tr>\n",
       "    <tr>\n",
       "      <th>...</th>\n",
       "      <td>...</td>\n",
       "      <td>...</td>\n",
       "      <td>...</td>\n",
       "      <td>...</td>\n",
       "      <td>...</td>\n",
       "      <td>...</td>\n",
       "      <td>...</td>\n",
       "      <td>...</td>\n",
       "      <td>...</td>\n",
       "      <td>...</td>\n",
       "      <td>...</td>\n",
       "      <td>...</td>\n",
       "      <td>...</td>\n",
       "      <td>...</td>\n",
       "      <td>...</td>\n",
       "      <td>...</td>\n",
       "      <td>...</td>\n",
       "      <td>...</td>\n",
       "      <td>...</td>\n",
       "    </tr>\n",
       "    <tr>\n",
       "      <th>3328</th>\n",
       "      <td>AZ</td>\n",
       "      <td>192</td>\n",
       "      <td>0</td>\n",
       "      <td>1</td>\n",
       "      <td>36</td>\n",
       "      <td>156.2</td>\n",
       "      <td>77</td>\n",
       "      <td>26.55</td>\n",
       "      <td>215.5</td>\n",
       "      <td>126</td>\n",
       "      <td>18.32</td>\n",
       "      <td>279.1</td>\n",
       "      <td>83</td>\n",
       "      <td>12.56</td>\n",
       "      <td>9.9</td>\n",
       "      <td>6</td>\n",
       "      <td>2.67</td>\n",
       "      <td>2</td>\n",
       "      <td>0</td>\n",
       "    </tr>\n",
       "    <tr>\n",
       "      <th>3329</th>\n",
       "      <td>WV</td>\n",
       "      <td>68</td>\n",
       "      <td>0</td>\n",
       "      <td>0</td>\n",
       "      <td>0</td>\n",
       "      <td>231.1</td>\n",
       "      <td>57</td>\n",
       "      <td>39.29</td>\n",
       "      <td>153.4</td>\n",
       "      <td>55</td>\n",
       "      <td>13.04</td>\n",
       "      <td>191.3</td>\n",
       "      <td>123</td>\n",
       "      <td>8.61</td>\n",
       "      <td>9.6</td>\n",
       "      <td>4</td>\n",
       "      <td>2.59</td>\n",
       "      <td>3</td>\n",
       "      <td>0</td>\n",
       "    </tr>\n",
       "    <tr>\n",
       "      <th>3330</th>\n",
       "      <td>RI</td>\n",
       "      <td>28</td>\n",
       "      <td>0</td>\n",
       "      <td>0</td>\n",
       "      <td>0</td>\n",
       "      <td>180.8</td>\n",
       "      <td>109</td>\n",
       "      <td>30.74</td>\n",
       "      <td>288.8</td>\n",
       "      <td>58</td>\n",
       "      <td>24.55</td>\n",
       "      <td>191.9</td>\n",
       "      <td>91</td>\n",
       "      <td>8.64</td>\n",
       "      <td>14.1</td>\n",
       "      <td>6</td>\n",
       "      <td>3.81</td>\n",
       "      <td>2</td>\n",
       "      <td>0</td>\n",
       "    </tr>\n",
       "    <tr>\n",
       "      <th>3331</th>\n",
       "      <td>CT</td>\n",
       "      <td>184</td>\n",
       "      <td>1</td>\n",
       "      <td>0</td>\n",
       "      <td>0</td>\n",
       "      <td>213.8</td>\n",
       "      <td>105</td>\n",
       "      <td>36.35</td>\n",
       "      <td>159.6</td>\n",
       "      <td>84</td>\n",
       "      <td>13.57</td>\n",
       "      <td>139.2</td>\n",
       "      <td>137</td>\n",
       "      <td>6.26</td>\n",
       "      <td>5.0</td>\n",
       "      <td>10</td>\n",
       "      <td>1.35</td>\n",
       "      <td>2</td>\n",
       "      <td>0</td>\n",
       "    </tr>\n",
       "    <tr>\n",
       "      <th>3332</th>\n",
       "      <td>TN</td>\n",
       "      <td>74</td>\n",
       "      <td>0</td>\n",
       "      <td>1</td>\n",
       "      <td>25</td>\n",
       "      <td>234.4</td>\n",
       "      <td>113</td>\n",
       "      <td>39.85</td>\n",
       "      <td>265.9</td>\n",
       "      <td>82</td>\n",
       "      <td>22.60</td>\n",
       "      <td>241.4</td>\n",
       "      <td>77</td>\n",
       "      <td>10.86</td>\n",
       "      <td>13.7</td>\n",
       "      <td>4</td>\n",
       "      <td>3.70</td>\n",
       "      <td>0</td>\n",
       "      <td>0</td>\n",
       "    </tr>\n",
       "  </tbody>\n",
       "</table>\n",
       "<p>3333 rows × 19 columns</p>\n",
       "</div>"
      ],
      "text/plain": [
       "     state  account length  international plan  voice mail plan  \\\n",
       "0       KS             128                   0                1   \n",
       "1       OH             107                   0                1   \n",
       "2       NJ             137                   0                0   \n",
       "3       OH              84                   1                0   \n",
       "4       OK              75                   1                0   \n",
       "...    ...             ...                 ...              ...   \n",
       "3328    AZ             192                   0                1   \n",
       "3329    WV              68                   0                0   \n",
       "3330    RI              28                   0                0   \n",
       "3331    CT             184                   1                0   \n",
       "3332    TN              74                   0                1   \n",
       "\n",
       "      number vmail messages  total day minutes  total day calls  \\\n",
       "0                        25              265.1              110   \n",
       "1                        26              161.6              123   \n",
       "2                         0              243.4              114   \n",
       "3                         0              299.4               71   \n",
       "4                         0              166.7              113   \n",
       "...                     ...                ...              ...   \n",
       "3328                     36              156.2               77   \n",
       "3329                      0              231.1               57   \n",
       "3330                      0              180.8              109   \n",
       "3331                      0              213.8              105   \n",
       "3332                     25              234.4              113   \n",
       "\n",
       "      total day charge  total eve minutes  total eve calls  total eve charge  \\\n",
       "0                45.07              197.4               99             16.78   \n",
       "1                27.47              195.5              103             16.62   \n",
       "2                41.38              121.2              110             10.30   \n",
       "3                50.90               61.9               88              5.26   \n",
       "4                28.34              148.3              122             12.61   \n",
       "...                ...                ...              ...               ...   \n",
       "3328             26.55              215.5              126             18.32   \n",
       "3329             39.29              153.4               55             13.04   \n",
       "3330             30.74              288.8               58             24.55   \n",
       "3331             36.35              159.6               84             13.57   \n",
       "3332             39.85              265.9               82             22.60   \n",
       "\n",
       "      total night minutes  total night calls  total night charge  \\\n",
       "0                   244.7                 91               11.01   \n",
       "1                   254.4                103               11.45   \n",
       "2                   162.6                104                7.32   \n",
       "3                   196.9                 89                8.86   \n",
       "4                   186.9                121                8.41   \n",
       "...                   ...                ...                 ...   \n",
       "3328                279.1                 83               12.56   \n",
       "3329                191.3                123                8.61   \n",
       "3330                191.9                 91                8.64   \n",
       "3331                139.2                137                6.26   \n",
       "3332                241.4                 77               10.86   \n",
       "\n",
       "      total intl minutes  total intl calls  total intl charge  \\\n",
       "0                   10.0                 3               2.70   \n",
       "1                   13.7                 3               3.70   \n",
       "2                   12.2                 5               3.29   \n",
       "3                    6.6                 7               1.78   \n",
       "4                   10.1                 3               2.73   \n",
       "...                  ...               ...                ...   \n",
       "3328                 9.9                 6               2.67   \n",
       "3329                 9.6                 4               2.59   \n",
       "3330                14.1                 6               3.81   \n",
       "3331                 5.0                10               1.35   \n",
       "3332                13.7                 4               3.70   \n",
       "\n",
       "      customer service calls  churn  \n",
       "0                          1      0  \n",
       "1                          1      0  \n",
       "2                          0      0  \n",
       "3                          2      0  \n",
       "4                          3      0  \n",
       "...                      ...    ...  \n",
       "3328                       2      0  \n",
       "3329                       3      0  \n",
       "3330                       2      0  \n",
       "3331                       2      0  \n",
       "3332                       0      0  \n",
       "\n",
       "[3333 rows x 19 columns]"
      ]
     },
     "execution_count": 6,
     "metadata": {},
     "output_type": "execute_result"
    }
   ],
   "source": [
    "#pop off uneeded columns\n",
    "\n",
    "df = df.drop('phone number', axis=1)\n",
    "df = df.drop('area code', axis=1)\n",
    "\n",
    "df"
   ]
  },
  {
   "cell_type": "code",
   "execution_count": 7,
   "metadata": {},
   "outputs": [
    {
     "data": {
      "text/plain": [
       "0    2850\n",
       "1     483\n",
       "Name: churn, dtype: int64"
      ]
     },
     "execution_count": 7,
     "metadata": {},
     "output_type": "execute_result"
    }
   ],
   "source": [
    "#lets check our target variables value count for balance\n",
    "\n",
    "df.churn.value_counts()\n",
    "\n",
    "#looks like we have a large imbalance, this is something we can fix using SMOTE"
   ]
  },
  {
   "cell_type": "code",
   "execution_count": 8,
   "metadata": {},
   "outputs": [],
   "source": [
    "#let's now prepare our data for the train_test_split\n",
    "\n",
    "X = df.drop('churn', axis=1)\n",
    "y = df.churn"
   ]
  },
  {
   "cell_type": "code",
   "execution_count": 9,
   "metadata": {},
   "outputs": [],
   "source": [
    "#we must import the proper packages to perform train_test_split\n",
    "\n",
    "from sklearn.model_selection import train_test_split, cross_val_score\n",
    "\n",
    "X_train, X_test, y_train, y_test = train_test_split(X, y, random_state=2021, test_size=0.20)"
   ]
  },
  {
   "cell_type": "code",
   "execution_count": 10,
   "metadata": {},
   "outputs": [
    {
     "data": {
      "text/plain": [
       "ColumnTransformer(transformers=[('onehotencoder', OneHotEncoder(),\n",
       "                                 <sklearn.compose._column_transformer.make_column_selector object at 0x7ffda432cb00>),\n",
       "                                ('standardscaler', StandardScaler(),\n",
       "                                 <sklearn.compose._column_transformer.make_column_selector object at 0x7ffda432cbe0>)])"
      ]
     },
     "execution_count": 10,
     "metadata": {},
     "output_type": "execute_result"
    }
   ],
   "source": [
    "#let's try to create a pipeline to do all of our preprocessing for us\n",
    "\n",
    "from imblearn.pipeline import make_pipeline\n",
    "from sklearn.preprocessing import StandardScaler, OneHotEncoder\n",
    "from sklearn.compose import make_column_selector, make_column_transformer\n",
    "from sklearn.model_selection import GridSearchCV\n",
    "from imblearn.over_sampling import SMOTE\n",
    "\n",
    "preprocessing = make_column_transformer((OneHotEncoder(), make_column_selector(dtype_include=object)),\n",
    "                                       (StandardScaler(), make_column_selector(dtype_include=np.number),\n",
    "                                        SMOTE()))\n",
    "\n",
    "preprocessing"
   ]
  },
  {
   "cell_type": "code",
   "execution_count": 11,
   "metadata": {},
   "outputs": [
    {
     "data": {
      "text/plain": [
       "<2666x68 sparse matrix of type '<class 'numpy.float64'>'\n",
       "\twith 47988 stored elements in Compressed Sparse Row format>"
      ]
     },
     "execution_count": 11,
     "metadata": {},
     "output_type": "execute_result"
    }
   ],
   "source": [
    "preprocessing.fit_transform(X_train)"
   ]
  },
  {
   "cell_type": "code",
   "execution_count": 12,
   "metadata": {},
   "outputs": [],
   "source": [
    "from sklearn.tree import DecisionTreeClassifier\n",
    "from sklearn.ensemble import RandomForestClassifier\n",
    "from sklearn.linear_model import LogisticRegression\n",
    "from sklearn.ensemble import ExtraTreesClassifier\n",
    "from sklearn.neighbors import KNeighborsClassifier\n",
    "\n",
    "dt_pipeline = make_pipeline(preprocessing, DecisionTreeClassifier(random_state=2021))\n",
    "rf_pipeline = make_pipeline(preprocessing, RandomForestClassifier(random_state=2021))\n",
    "lr_pipeline = make_pipeline(preprocessing, LogisticRegression(random_state=2021))\n",
    "et_pipeline = make_pipeline(preprocessing, ExtraTreesClassifier(random_state=2021))\n",
    "kn_pipeline = make_pipeline(preprocessing, KNeighborsClassifier())"
   ]
  },
  {
   "cell_type": "code",
   "execution_count": 13,
   "metadata": {},
   "outputs": [
    {
     "data": {
      "text/plain": [
       "Pipeline(steps=[('columntransformer',\n",
       "                 ColumnTransformer(transformers=[('onehotencoder',\n",
       "                                                  OneHotEncoder(),\n",
       "                                                  <sklearn.compose._column_transformer.make_column_selector object at 0x7ffda432cb00>),\n",
       "                                                 ('standardscaler',\n",
       "                                                  StandardScaler(),\n",
       "                                                  <sklearn.compose._column_transformer.make_column_selector object at 0x7ffda432cbe0>)])),\n",
       "                ('decisiontreeclassifier',\n",
       "                 DecisionTreeClassifier(random_state=2021))])"
      ]
     },
     "execution_count": 13,
     "metadata": {},
     "output_type": "execute_result"
    }
   ],
   "source": [
    "dt_pipeline"
   ]
  },
  {
   "cell_type": "code",
   "execution_count": 14,
   "metadata": {},
   "outputs": [
    {
     "data": {
      "text/plain": [
       "Pipeline(steps=[('columntransformer',\n",
       "                 ColumnTransformer(transformers=[('onehotencoder',\n",
       "                                                  OneHotEncoder(),\n",
       "                                                  <sklearn.compose._column_transformer.make_column_selector object at 0x7ffda432cb00>),\n",
       "                                                 ('standardscaler',\n",
       "                                                  StandardScaler(),\n",
       "                                                  <sklearn.compose._column_transformer.make_column_selector object at 0x7ffda432cbe0>)])),\n",
       "                ('randomforestclassifier',\n",
       "                 RandomForestClassifier(random_state=2021))])"
      ]
     },
     "execution_count": 14,
     "metadata": {},
     "output_type": "execute_result"
    }
   ],
   "source": [
    "rf_pipeline"
   ]
  },
  {
   "cell_type": "code",
   "execution_count": 15,
   "metadata": {},
   "outputs": [
    {
     "data": {
      "text/plain": [
       "Pipeline(steps=[('columntransformer',\n",
       "                 ColumnTransformer(transformers=[('onehotencoder',\n",
       "                                                  OneHotEncoder(),\n",
       "                                                  <sklearn.compose._column_transformer.make_column_selector object at 0x7ffda432cb00>),\n",
       "                                                 ('standardscaler',\n",
       "                                                  StandardScaler(),\n",
       "                                                  <sklearn.compose._column_transformer.make_column_selector object at 0x7ffda432cbe0>)])),\n",
       "                ('logisticregression', LogisticRegression(random_state=2021))])"
      ]
     },
     "execution_count": 15,
     "metadata": {},
     "output_type": "execute_result"
    }
   ],
   "source": [
    "lr_pipeline"
   ]
  },
  {
   "cell_type": "code",
   "execution_count": 16,
   "metadata": {},
   "outputs": [
    {
     "data": {
      "text/plain": [
       "Pipeline(steps=[('columntransformer',\n",
       "                 ColumnTransformer(transformers=[('onehotencoder',\n",
       "                                                  OneHotEncoder(),\n",
       "                                                  <sklearn.compose._column_transformer.make_column_selector object at 0x7ffda432cb00>),\n",
       "                                                 ('standardscaler',\n",
       "                                                  StandardScaler(),\n",
       "                                                  <sklearn.compose._column_transformer.make_column_selector object at 0x7ffda432cbe0>)])),\n",
       "                ('extratreesclassifier',\n",
       "                 ExtraTreesClassifier(random_state=2021))])"
      ]
     },
     "execution_count": 16,
     "metadata": {},
     "output_type": "execute_result"
    }
   ],
   "source": [
    "et_pipeline"
   ]
  },
  {
   "cell_type": "code",
   "execution_count": 17,
   "metadata": {},
   "outputs": [
    {
     "data": {
      "text/plain": [
       "Pipeline(steps=[('columntransformer',\n",
       "                 ColumnTransformer(transformers=[('onehotencoder',\n",
       "                                                  OneHotEncoder(),\n",
       "                                                  <sklearn.compose._column_transformer.make_column_selector object at 0x7ffda432cb00>),\n",
       "                                                 ('standardscaler',\n",
       "                                                  StandardScaler(),\n",
       "                                                  <sklearn.compose._column_transformer.make_column_selector object at 0x7ffda432cbe0>)])),\n",
       "                ('kneighborsclassifier', KNeighborsClassifier())])"
      ]
     },
     "execution_count": 17,
     "metadata": {},
     "output_type": "execute_result"
    }
   ],
   "source": [
    "kn_pipeline"
   ]
  },
  {
   "cell_type": "markdown",
   "metadata": {},
   "source": [
    "## Param_Grids for various pipelines"
   ]
  },
  {
   "cell_type": "code",
   "execution_count": 19,
   "metadata": {},
   "outputs": [],
   "source": [
    "#we need to create different param_grids for each pipeline\n",
    "\n",
    "dt_param_grid = {\n",
    "    'decisiontreeclassifier__criterion': ['entropy', 'gini'],\n",
    "    'decisiontreeclassifier__splitter': ['best', 'random'],\n",
    "    'decisiontreeclassifier__max_depth': [2, 5, 10],\n",
    "    'decisiontreeclassifier__max_features': ['auto', 'sqrt', 'log2'],\n",
    "    'decisiontreeclassifier__class_weight': ['none', 'balanced']\n",
    "    \n",
    "}\n",
    "\n",
    "rf_param_grid = {\n",
    "    'randomforestclassifier__n_estimators': [100, 1000, 2000],\n",
    "    'randomforestclassifier__max_depth': [2, 5, 10]\n",
    "    \n",
    "}\n",
    "\n",
    "lr_param_grid = {\n",
    "    'logisticregression__penalty': ['l1', 'l2', 'elasticnet', 'none'],\n",
    "    'logisticregression__dual': [True, False],\n",
    "    'logisticregression__solver': ['newton-cg', 'lbfgs', 'liblinear', 'sag', 'saga'],\n",
    "    'logisticregression__multi_class': ['auto', 'ovr', 'multinomial'],\n",
    "    'logisticregression__n_jobs': [10, 20, 30],\n",
    "    'logisticregression__C': [0.01, 0.1, 0.5]\n",
    "    \n",
    "}\n",
    "\n",
    "et_param_grid = {\n",
    "    'extratreesclassifier__criterion': ['entropy', 'gini'],\n",
    "    'extratreesclassifier__max_depth': [2, 5, 10],\n",
    "    'extratreesclassifier__n_estimators': [100, 250, 500],\n",
    "    'extratreesclassifier__max_features': ['auto', 'sqrt', 'log2'],\n",
    "    'extratreesclassifier__class_weight': ['none', 'balanced']\n",
    "    \n",
    "}\n",
    "\n",
    "kn_param_grid = {\n",
    "    'kneighborsclassifier__n_neighbors': [5, 10, 20],\n",
    "    'kneighborsclassifier__weights': ['uniform', 'distance'],\n",
    "    'kneighborsclassifier__algorithm': ['auto', 'ball_tree', 'kd_tree', 'brute'],\n",
    "    'kneighborsclassifier__leaf_size': [25, 50, 100],\n",
    "    'kneighborsclassifier__p': [1, 2],\n",
    "    'kneighborsclassifier__metric': ['minkowski', 'manhattan']\n",
    "    \n",
    "}"
   ]
  },
  {
   "cell_type": "markdown",
   "metadata": {},
   "source": [
    "## RandomForest Model Using Pipeline"
   ]
  },
  {
   "cell_type": "code",
   "execution_count": 20,
   "metadata": {},
   "outputs": [
    {
     "data": {
      "text/plain": [
       "GridSearchCV(estimator=Pipeline(steps=[('columntransformer',\n",
       "                                        ColumnTransformer(transformers=[('onehotencoder',\n",
       "                                                                         OneHotEncoder(),\n",
       "                                                                         <sklearn.compose._column_transformer.make_column_selector object at 0x7ffda432cb00>),\n",
       "                                                                        ('standardscaler',\n",
       "                                                                         StandardScaler(),\n",
       "                                                                         <sklearn.compose._column_transformer.make_column_selector object at 0x7ffda432cbe0>)])),\n",
       "                                       ('randomforestclassifier',\n",
       "                                        RandomForestClassifier(random_state=2021))]),\n",
       "             n_jobs=-1,\n",
       "             param_grid={'randomforestclassifier__max_depth': [2, 5, 10],\n",
       "                         'randomforestclassifier__n_estimators': [100, 1000,\n",
       "                                                                  2000]})"
      ]
     },
     "execution_count": 20,
     "metadata": {},
     "output_type": "execute_result"
    }
   ],
   "source": [
    "search_rf = GridSearchCV(rf_pipeline, rf_param_grid, n_jobs=-1)\n",
    "\n",
    "search_rf.fit(X_train, y_train)"
   ]
  },
  {
   "cell_type": "code",
   "execution_count": 21,
   "metadata": {},
   "outputs": [
    {
     "data": {
      "text/plain": [
       "GridSearchCV(estimator=Pipeline(steps=[('columntransformer',\n",
       "                                        ColumnTransformer(transformers=[('onehotencoder',\n",
       "                                                                         OneHotEncoder(),\n",
       "                                                                         <sklearn.compose._column_transformer.make_column_selector object at 0x7ffda432cb00>),\n",
       "                                                                        ('standardscaler',\n",
       "                                                                         StandardScaler(),\n",
       "                                                                         <sklearn.compose._column_transformer.make_column_selector object at 0x7ffda432cbe0>)])),\n",
       "                                       ('randomforestclassifier',\n",
       "                                        RandomForestClassifier(random_state=2021))]),\n",
       "             n_jobs=-1,\n",
       "             param_grid={'randomforestclassifier__max_depth': [2, 5, 10],\n",
       "                         'randomforestclassifier__n_estimators': [100, 1000,\n",
       "                                                                  2000]})"
      ]
     },
     "execution_count": 21,
     "metadata": {},
     "output_type": "execute_result"
    }
   ],
   "source": [
    "search_rf"
   ]
  },
  {
   "cell_type": "code",
   "execution_count": 22,
   "metadata": {},
   "outputs": [
    {
     "data": {
      "text/plain": [
       "{'randomforestclassifier__max_depth': 10,\n",
       " 'randomforestclassifier__n_estimators': 2000}"
      ]
     },
     "execution_count": 22,
     "metadata": {},
     "output_type": "execute_result"
    }
   ],
   "source": [
    "search_rf.best_params_"
   ]
  },
  {
   "cell_type": "code",
   "execution_count": 23,
   "metadata": {},
   "outputs": [],
   "source": [
    "best_rf_pipeline = search_rf.best_estimator_"
   ]
  },
  {
   "cell_type": "code",
   "execution_count": 24,
   "metadata": {},
   "outputs": [],
   "source": [
    "best_rf_cross_val = cross_val_score(best_rf_pipeline, X_train, y_train, scoring='f1')"
   ]
  },
  {
   "cell_type": "markdown",
   "metadata": {},
   "source": [
    "## DecisionTree Model Using Pipeline"
   ]
  },
  {
   "cell_type": "code",
   "execution_count": 25,
   "metadata": {},
   "outputs": [
    {
     "data": {
      "text/plain": [
       "GridSearchCV(estimator=Pipeline(steps=[('columntransformer',\n",
       "                                        ColumnTransformer(transformers=[('onehotencoder',\n",
       "                                                                         OneHotEncoder(),\n",
       "                                                                         <sklearn.compose._column_transformer.make_column_selector object at 0x7ffda432cb00>),\n",
       "                                                                        ('standardscaler',\n",
       "                                                                         StandardScaler(),\n",
       "                                                                         <sklearn.compose._column_transformer.make_column_selector object at 0x7ffda432cbe0>)])),\n",
       "                                       ('decisiontreeclassifier',\n",
       "                                        DecisionTreeClassifier(random_state=2021))]),\n",
       "             n_jobs=-1,\n",
       "             param_grid={'decisiontreeclassifier__class_weight': ['none',\n",
       "                                                                  'balanced'],\n",
       "                         'decisiontreeclassifier__criterion': ['entropy',\n",
       "                                                               'gini'],\n",
       "                         'decisiontreeclassifier__max_depth': [2, 5, 10],\n",
       "                         'decisiontreeclassifier__max_features': ['auto',\n",
       "                                                                  'sqrt',\n",
       "                                                                  'log2'],\n",
       "                         'decisiontreeclassifier__splitter': ['best',\n",
       "                                                              'random']})"
      ]
     },
     "execution_count": 25,
     "metadata": {},
     "output_type": "execute_result"
    }
   ],
   "source": [
    "search_dt = GridSearchCV(dt_pipeline, dt_param_grid, n_jobs=-1)\n",
    "\n",
    "search_dt.fit(X_train, y_train)"
   ]
  },
  {
   "cell_type": "code",
   "execution_count": 26,
   "metadata": {},
   "outputs": [
    {
     "data": {
      "text/plain": [
       "{'decisiontreeclassifier__class_weight': 'balanced',\n",
       " 'decisiontreeclassifier__criterion': 'entropy',\n",
       " 'decisiontreeclassifier__max_depth': 10,\n",
       " 'decisiontreeclassifier__max_features': 'auto',\n",
       " 'decisiontreeclassifier__splitter': 'best'}"
      ]
     },
     "execution_count": 26,
     "metadata": {},
     "output_type": "execute_result"
    }
   ],
   "source": [
    "search_dt.best_params_"
   ]
  },
  {
   "cell_type": "code",
   "execution_count": 27,
   "metadata": {},
   "outputs": [],
   "source": [
    "best_dt_pipeline = search_dt.best_estimator_"
   ]
  },
  {
   "cell_type": "code",
   "execution_count": 28,
   "metadata": {},
   "outputs": [],
   "source": [
    "best_dt_cross_val = cross_val_score(best_dt_pipeline, X_train, y_train, scoring='f1')"
   ]
  },
  {
   "cell_type": "markdown",
   "metadata": {},
   "source": [
    "## LogisticRegression Model Using Pipeline"
   ]
  },
  {
   "cell_type": "code",
   "execution_count": 29,
   "metadata": {},
   "outputs": [
    {
     "data": {
      "text/plain": [
       "GridSearchCV(estimator=Pipeline(steps=[('columntransformer',\n",
       "                                        ColumnTransformer(transformers=[('onehotencoder',\n",
       "                                                                         OneHotEncoder(),\n",
       "                                                                         <sklearn.compose._column_transformer.make_column_selector object at 0x7ffda432cb00>),\n",
       "                                                                        ('standardscaler',\n",
       "                                                                         StandardScaler(),\n",
       "                                                                         <sklearn.compose._column_transformer.make_column_selector object at 0x7ffda432cbe0>)])),\n",
       "                                       ('logisticregression',\n",
       "                                        L...21))]),\n",
       "             n_jobs=-1,\n",
       "             param_grid={'logisticregression__C': [0.01, 0.1, 0.5],\n",
       "                         'logisticregression__dual': [True, False],\n",
       "                         'logisticregression__multi_class': ['auto', 'ovr',\n",
       "                                                             'multinomial'],\n",
       "                         'logisticregression__n_jobs': [10, 20, 30],\n",
       "                         'logisticregression__penalty': ['l1', 'l2',\n",
       "                                                         'elasticnet', 'none'],\n",
       "                         'logisticregression__solver': ['newton-cg', 'lbfgs',\n",
       "                                                        'liblinear', 'sag',\n",
       "                                                        'saga']})"
      ]
     },
     "execution_count": 29,
     "metadata": {},
     "output_type": "execute_result"
    }
   ],
   "source": [
    "search_lr = GridSearchCV(lr_pipeline, lr_param_grid, n_jobs=-1)\n",
    "\n",
    "search_lr.fit(X_train, y_train)"
   ]
  },
  {
   "cell_type": "code",
   "execution_count": 30,
   "metadata": {},
   "outputs": [
    {
     "data": {
      "text/plain": [
       "{'logisticregression__C': 0.01,\n",
       " 'logisticregression__dual': False,\n",
       " 'logisticregression__multi_class': 'auto',\n",
       " 'logisticregression__n_jobs': 10,\n",
       " 'logisticregression__penalty': 'l2',\n",
       " 'logisticregression__solver': 'newton-cg'}"
      ]
     },
     "execution_count": 30,
     "metadata": {},
     "output_type": "execute_result"
    }
   ],
   "source": [
    "search_lr.best_params_"
   ]
  },
  {
   "cell_type": "code",
   "execution_count": 31,
   "metadata": {},
   "outputs": [],
   "source": [
    "best_lr_pipeline = search_lr.best_estimator_"
   ]
  },
  {
   "cell_type": "code",
   "execution_count": 32,
   "metadata": {},
   "outputs": [],
   "source": [
    "best_lr_cross_val = cross_val_score(best_lr_pipeline, X_train, y_train, scoring='f1')"
   ]
  },
  {
   "cell_type": "markdown",
   "metadata": {},
   "source": [
    "## ExtraTrees Model Using Pipeline"
   ]
  },
  {
   "cell_type": "code",
   "execution_count": 33,
   "metadata": {},
   "outputs": [
    {
     "data": {
      "text/plain": [
       "GridSearchCV(estimator=Pipeline(steps=[('columntransformer',\n",
       "                                        ColumnTransformer(transformers=[('onehotencoder',\n",
       "                                                                         OneHotEncoder(),\n",
       "                                                                         <sklearn.compose._column_transformer.make_column_selector object at 0x7ffda432cb00>),\n",
       "                                                                        ('standardscaler',\n",
       "                                                                         StandardScaler(),\n",
       "                                                                         <sklearn.compose._column_transformer.make_column_selector object at 0x7ffda432cbe0>)])),\n",
       "                                       ('extratreesclassifier',\n",
       "                                        ExtraTreesClassifier(random_state=2021))]),\n",
       "             n_jobs=-1,\n",
       "             param_grid={'extratreesclassifier__class_weight': ['none',\n",
       "                                                                'balanced'],\n",
       "                         'extratreesclassifier__criterion': ['entropy', 'gini'],\n",
       "                         'extratreesclassifier__max_depth': [2, 5, 10],\n",
       "                         'extratreesclassifier__max_features': ['auto', 'sqrt',\n",
       "                                                                'log2'],\n",
       "                         'extratreesclassifier__n_estimators': [100, 250, 500]})"
      ]
     },
     "execution_count": 33,
     "metadata": {},
     "output_type": "execute_result"
    }
   ],
   "source": [
    "search_et = GridSearchCV(et_pipeline, et_param_grid, n_jobs=-1)\n",
    "\n",
    "search_et.fit(X_train, y_train)"
   ]
  },
  {
   "cell_type": "code",
   "execution_count": 34,
   "metadata": {},
   "outputs": [
    {
     "data": {
      "text/plain": [
       "{'extratreesclassifier__class_weight': 'balanced',\n",
       " 'extratreesclassifier__criterion': 'gini',\n",
       " 'extratreesclassifier__max_depth': 10,\n",
       " 'extratreesclassifier__max_features': 'auto',\n",
       " 'extratreesclassifier__n_estimators': 500}"
      ]
     },
     "execution_count": 34,
     "metadata": {},
     "output_type": "execute_result"
    }
   ],
   "source": [
    "search_et.best_params_"
   ]
  },
  {
   "cell_type": "code",
   "execution_count": 35,
   "metadata": {},
   "outputs": [],
   "source": [
    "best_et_pipeline = search_et.best_estimator_"
   ]
  },
  {
   "cell_type": "code",
   "execution_count": 36,
   "metadata": {},
   "outputs": [],
   "source": [
    "best_et_cross_val = cross_val_score(best_et_pipeline, X_train, y_train, scoring='f1')"
   ]
  },
  {
   "cell_type": "markdown",
   "metadata": {},
   "source": [
    "## KNeighbors Model Using Pipeline"
   ]
  },
  {
   "cell_type": "code",
   "execution_count": 37,
   "metadata": {},
   "outputs": [
    {
     "data": {
      "text/plain": [
       "GridSearchCV(estimator=Pipeline(steps=[('columntransformer',\n",
       "                                        ColumnTransformer(transformers=[('onehotencoder',\n",
       "                                                                         OneHotEncoder(),\n",
       "                                                                         <sklearn.compose._column_transformer.make_column_selector object at 0x7ffda432cb00>),\n",
       "                                                                        ('standardscaler',\n",
       "                                                                         StandardScaler(),\n",
       "                                                                         <sklearn.compose._column_transformer.make_column_selector object at 0x7ffda432cbe0>)])),\n",
       "                                       ('kneighborsclassifier',\n",
       "                                        KNeighborsClassifier())]),\n",
       "             n_jobs=-1,\n",
       "             param_grid={'kneighborsclassifier__algorithm': ['auto',\n",
       "                                                             'ball_tree',\n",
       "                                                             'kd_tree',\n",
       "                                                             'brute'],\n",
       "                         'kneighborsclassifier__leaf_size': [25, 50, 100],\n",
       "                         'kneighborsclassifier__metric': ['minkowski',\n",
       "                                                          'manhattan'],\n",
       "                         'kneighborsclassifier__n_neighbors': [5, 10, 20],\n",
       "                         'kneighborsclassifier__p': [1, 2],\n",
       "                         'kneighborsclassifier__weights': ['uniform',\n",
       "                                                           'distance']})"
      ]
     },
     "execution_count": 37,
     "metadata": {},
     "output_type": "execute_result"
    }
   ],
   "source": [
    "search_kn = GridSearchCV(kn_pipeline, kn_param_grid, n_jobs=-1)\n",
    "\n",
    "search_kn.fit(X_train, y_train)"
   ]
  },
  {
   "cell_type": "code",
   "execution_count": 38,
   "metadata": {},
   "outputs": [
    {
     "data": {
      "text/plain": [
       "{'kneighborsclassifier__algorithm': 'auto',\n",
       " 'kneighborsclassifier__leaf_size': 25,\n",
       " 'kneighborsclassifier__metric': 'minkowski',\n",
       " 'kneighborsclassifier__n_neighbors': 5,\n",
       " 'kneighborsclassifier__p': 1,\n",
       " 'kneighborsclassifier__weights': 'uniform'}"
      ]
     },
     "execution_count": 38,
     "metadata": {},
     "output_type": "execute_result"
    }
   ],
   "source": [
    "search_kn.best_params_"
   ]
  },
  {
   "cell_type": "code",
   "execution_count": 39,
   "metadata": {},
   "outputs": [],
   "source": [
    "best_kn_pipeline = search_kn.best_estimator_"
   ]
  },
  {
   "cell_type": "code",
   "execution_count": 40,
   "metadata": {},
   "outputs": [],
   "source": [
    "best_kn_cross_val = cross_val_score(best_kn_pipeline, X_train, y_train, scoring='f1')"
   ]
  },
  {
   "cell_type": "markdown",
   "metadata": {},
   "source": [
    "## Mean of Models"
   ]
  },
  {
   "cell_type": "code",
   "execution_count": 194,
   "metadata": {},
   "outputs": [
    {
     "name": "stdout",
     "output_type": "stream",
     "text": [
      "RandomForest: 0.6162381988178686\n",
      " DecisionTree: 0.49161777125440886\n",
      " KNeighbors: 0.48455377627943996\n",
      " LogisticRegression: 0.2248114677359882\n",
      " ExtraTrees: 0.6481831855744898\n"
     ]
    }
   ],
   "source": [
    "print(f\"RandomForest: {best_rf_cross_val.mean()}\\n DecisionTree: {best_dt_cross_val.mean()}\\n KNeighbors: {best_kn_cross_val.mean()}\\n LogisticRegression: {best_lr_cross_val.mean()}\\n ExtraTrees: {best_et_cross_val.mean()}\")"
   ]
  },
  {
   "cell_type": "code",
   "execution_count": 42,
   "metadata": {},
   "outputs": [
    {
     "data": {
      "text/plain": [
       "Pipeline(steps=[('columntransformer',\n",
       "                 ColumnTransformer(transformers=[('onehotencoder',\n",
       "                                                  OneHotEncoder(),\n",
       "                                                  <sklearn.compose._column_transformer.make_column_selector object at 0x7ffda2b54240>),\n",
       "                                                 ('standardscaler',\n",
       "                                                  StandardScaler(),\n",
       "                                                  <sklearn.compose._column_transformer.make_column_selector object at 0x7ffda2e93be0>)])),\n",
       "                ('extratreesclassifier',\n",
       "                 ExtraTreesClassifier(class_weight='balanced', max_depth=10,\n",
       "                                      n_estimators=500, random_state=2021))])"
      ]
     },
     "execution_count": 42,
     "metadata": {},
     "output_type": "execute_result"
    }
   ],
   "source": [
    "#refit best model onto training data\n",
    "\n",
    "best_et_pipeline.fit(X_train, y_train)"
   ]
  },
  {
   "cell_type": "code",
   "execution_count": 45,
   "metadata": {},
   "outputs": [
    {
     "name": "stdout",
     "output_type": "stream",
     "text": [
      "Training F1 Score: 0.6481831855744898\n",
      "Testing F1 Score: 0.6179055216206919\n"
     ]
    }
   ],
   "source": [
    "from sklearn.metrics import f1_score, accuracy_score\n",
    "\n",
    "#checking the f1 score of best model using the training and testing data\n",
    "#both are similar, thus we can conclude that our model is reliable\n",
    "\n",
    "f1_score_train_mean = best_et_cross_val.mean()\n",
    "f1_score_test_mean = cross_val_score(best_et_pipeline, X_test, y_test, scoring='f1').mean()\n",
    "\n",
    "print(f'Training F1 Score: {f1_score_train_mean}')\n",
    "print(f'Testing F1 Score: {f1_score_test_mean}')"
   ]
  },
  {
   "cell_type": "code",
   "execution_count": 46,
   "metadata": {},
   "outputs": [
    {
     "name": "stdout",
     "output_type": "stream",
     "text": [
      "Training Accuracy: 0.9253563390847712\n",
      "Testing Accuracy: 0.8665667166416792\n"
     ]
    }
   ],
   "source": [
    "#checking the accuracy of our best model on training and testing data\n",
    "#both are similar,thus we can conclude that our model is reliable\n",
    "\n",
    "best_et_pipeline.fit(X_train, y_train)\n",
    "train_preds = best_et_pipeline.predict(X_train)\n",
    "test_preds = best_et_pipeline.predict(X_test)\n",
    "\n",
    "print(f'Training Accuracy: {accuracy_score(y_train, train_preds)}')\n",
    "print(f'Testing Accuracy: {accuracy_score(y_test, test_preds)}')"
   ]
  },
  {
   "cell_type": "markdown",
   "metadata": {},
   "source": [
    "## Importance of Customer Service Calls in Predictions"
   ]
  },
  {
   "cell_type": "code",
   "execution_count": null,
   "metadata": {},
   "outputs": [],
   "source": [
    "search_et_no_csc = GridSearchCV(et_pipeline, et_param_grid, n_jobs=-1)\n",
    "\n",
    "search_et_no_csc.fit(X_train.drop('customer service calls', axis=1), y_train)"
   ]
  },
  {
   "cell_type": "code",
   "execution_count": null,
   "metadata": {},
   "outputs": [],
   "source": [
    "search_et_no_csc.best_params_"
   ]
  },
  {
   "cell_type": "code",
   "execution_count": null,
   "metadata": {},
   "outputs": [],
   "source": [
    "best_et_pipeline_no_csc = search_et_no_csc.best_estimator_"
   ]
  },
  {
   "cell_type": "code",
   "execution_count": null,
   "metadata": {},
   "outputs": [],
   "source": [
    "best_et_cross_val_no_csc = cross_val_score(best_et_pipeline_no_csc, X_train.drop('customer service calls', axis=1), y_train, scoring='f1').mean()"
   ]
  },
  {
   "cell_type": "code",
   "execution_count": null,
   "metadata": {},
   "outputs": [],
   "source": [
    "print(f'Without Customer Service Calls: {best_et_cross_val_no_csc}')\n",
    "print(f'With Customer Service Calls: {f1_score_train_mean}')"
   ]
  },
  {
   "cell_type": "code",
   "execution_count": null,
   "metadata": {},
   "outputs": [],
   "source": [
    "cmaps_misc = [\\\n",
    "            'flag', 'prism', 'ocean', 'gist_earth', 'terrain', 'gist_stern',\n",
    "            'gnuplot', 'gnuplot2', 'CMRmap', 'cubehelix', 'brg',\n",
    "            'gist_rainbow', 'rainbow', 'jet', 'nipy_spectral', 'gist_ncar']\n",
    "cmaps_qual = ['Pastel1', 'Pastel2', 'Paired', 'Accent',\\\n",
    "                        'Dark2', 'Set1', 'Set2', 'Set3',\n",
    "                        'tab10', 'tab20', 'tab20b', 'tab20c']\n",
    "cmaps_cyc = ['twilight', 'twilight_shifted', 'hsv']\n",
    "cmaps_list_seq2 = ['binary', 'gist_yarg', 'gist_gray', 'gray', 'bone', 'pink',\n",
    "            'spring', 'summer', 'autumn', 'winter', 'cool', 'Wistia',\n",
    "            'hot', 'afmhot', 'gist_heat', 'copper']\n",
    "cmaps_list_diverging = ['PiYG', 'PRGn', 'BrBG', 'PuOr', 'RdGy', 'RdBu', 'RdYlBu', 'RdYlGn', 'Spectral', 'coolwarm', 'bwr', 'seismic']\n",
    "cmap_list_uniform = ['viridis', 'plasma', 'inferno', 'magma', 'cividis']"
   ]
  },
  {
   "cell_type": "code",
   "execution_count": null,
   "metadata": {},
   "outputs": [],
   "source": [
    "colors = ['flag', 'prism', 'ocean', 'gist_earth', 'terrain', 'gist_stern', 'gnuplot', 'gnuplot2', 'CMRmap', 'cubehelix', 'brg', 'gist_rainbow', 'rainbow', 'jet', 'nipy_spectral', 'gist_ncar', 'Pastel1', 'Pastel2', 'Paired', 'Accent', 'Dark2', 'Set1', 'Set2', 'Set3', 'tab10', 'tab20', 'tab20b', 'tab20c', 'twilight', 'twilight_shifted', 'hsv', 'binary', 'gist_yarg', 'gist_gray', 'gray', 'bone', 'pink','spring', 'summer', 'autumn', 'winter', 'cool', 'Wistia','hot', 'afmhot', 'gist_heat', 'copper','PiYG', 'PRGn', 'BrBG', 'PuOr', 'RdGy', 'RdBu', 'RdYlBu', 'RdYlGn', 'Spectral', 'coolwarm', 'bwr', 'seismic','viridis', 'plasma', 'inferno', 'magma', 'cividis']"
   ]
  },
  {
   "cell_type": "code",
   "execution_count": null,
   "metadata": {},
   "outputs": [],
   "source": [
    "for cmap in colors:\n",
    "    plot_confusion_matrix(best_et_pipeline, X_test, y_test, cmap=cmap)\n",
    "    plt.title(cmap)\n",
    "    plt.show()"
   ]
  },
  {
   "cell_type": "code",
   "execution_count": 81,
   "metadata": {},
   "outputs": [
    {
     "data": {
      "image/png": "[encoded data removed]",
      "text/plain": [
       "<Figure size 720x360 with 2 Axes>"
      ]
     },
     "metadata": {
      "needs_background": "light"
     },
     "output_type": "display_data"
    }
   ],
   "source": [
    "from sklearn.metrics import plot_confusion_matrix\n",
    "import matplotlib.pyplot as plt\n",
    "\n",
    "fig, axes = plt.subplots(figsize=(10,5))\n",
    "\n",
    "axes.set_title(\"Model Validation\")\n",
    "x_tick_marks = ['Predicted to Stay', 'Predicted to Churn']\n",
    "y_tick_marks = ['Stayed', 'Churned']\n",
    "\n",
    "plot_confusion_matrix(best_et_pipeline, X_test, y_test, ax=axes, cmap=\"prism\", display_labels=y_tick_marks)\n",
    "\n",
    "plt.xticks([0,1], x_tick_marks)\n",
    "axes.set_xlabel('')\n",
    "axes.set_ylabel('')\n",
    "\n",
    "SMALL_SIZE = 8\n",
    "MEDIUM_SIZE = 10\n",
    "BIGGER_SIZE = 12\n",
    "plt.rc('font', size=SMALL_SIZE)          # controls default text sizes\n",
    "plt.rc('axes', titlesize=SMALL_SIZE)     # fontsize of the axes title\n",
    "plt.rc('axes', labelsize=MEDIUM_SIZE)    # fontsize of the x and y labels\n",
    "plt.rc('xtick', labelsize=SMALL_SIZE)    # fontsize of the tick labels\n",
    "plt.rc('ytick', labelsize=SMALL_SIZE)    # fontsize of the tick labels\n",
    "plt.rc('legend', fontsize=SMALL_SIZE)    # legend fontsize\n",
    "plt.rc('figure', titlesize=BIGGER_SIZE)  # fontsize of the figure title\n",
    "\n",
    "\n",
    "plt.tight_layout()\n",
    "plt.show()"
   ]
  },
  {
   "cell_type": "code",
   "execution_count": 83,
   "metadata": {},
   "outputs": [
    {
     "data": {
      "image/png": "[encoded data removed]",
      "text/plain": [
       "<Figure size 720x360 with 2 Axes>"
      ]
     },
     "metadata": {
      "needs_background": "light"
     },
     "output_type": "display_data"
    },
    {
     "data": {
      "text/plain": [
       "<Figure size 432x288 with 0 Axes>"
      ]
     },
     "metadata": {},
     "output_type": "display_data"
    }
   ],
   "source": [
    "from sklearn.metrics import plot_confusion_matrix\n",
    "import matplotlib.pyplot as plt\n",
    "\n",
    "fig, axes = plt.subplots(figsize=(10,5))\n",
    "\n",
    "axes.set_title(\"Model Validation\")\n",
    "x_tick_marks = ['Predicted to Stay', 'Predicted to Churn']\n",
    "y_tick_marks = ['Stayed', 'Churned']\n",
    "\n",
    "plot_confusion_matrix(best_et_pipeline, X_test, y_test, ax=axes, cmap=\"prism\", display_labels=y_tick_marks)\n",
    "\n",
    "plt.xticks([0,1], x_tick_marks)\n",
    "axes.set_xlabel('')\n",
    "axes.set_ylabel('')\n",
    "\n",
    "SMALL_SIZE = 8\n",
    "MEDIUM_SIZE = 10\n",
    "BIGGER_SIZE = 12\n",
    "plt.rc('font', size=SMALL_SIZE)          # controls default text sizes\n",
    "plt.rc('axes', titlesize=SMALL_SIZE)     # fontsize of the axes title\n",
    "plt.rc('axes', labelsize=MEDIUM_SIZE)    # fontsize of the x and y labels\n",
    "plt.rc('xtick', labelsize=SMALL_SIZE)    # fontsize of the tick labels\n",
    "plt.rc('ytick', labelsize=SMALL_SIZE)    # fontsize of the tick labels\n",
    "plt.rc('legend', fontsize=SMALL_SIZE)    # legend fontsize\n",
    "plt.rc('figure', titlesize=BIGGER_SIZE)  # fontsize of the figure title\n",
    "\n",
    "\n",
    "plt.tight_layout()\n",
    "plt.show()\n",
    "plt.savefig('images/extra_trees_confusion_matrix.png', transparent=True)"
   ]
  },
  {
   "cell_type": "code",
   "execution_count": 82,
   "metadata": {},
   "outputs": [],
   "source": [
    "!mkdir images"
   ]
  },
  {
   "cell_type": "code",
   "execution_count": 136,
   "metadata": {},
   "outputs": [
    {
     "data": {
      "text/plain": [
       "Pipeline(steps=[('columntransformer',\n",
       "                 ColumnTransformer(transformers=[('onehotencoder',\n",
       "                                                  OneHotEncoder(),\n",
       "                                                  <sklearn.compose._column_transformer.make_column_selector object at 0x7ffda2b54240>),\n",
       "                                                 ('standardscaler',\n",
       "                                                  StandardScaler(),\n",
       "                                                  <sklearn.compose._column_transformer.make_column_selector object at 0x7ffda2e93be0>)])),\n",
       "                ('extratreesclassifier',\n",
       "                 ExtraTreesClassifier(class_weight='balanced', max_depth=10,\n",
       "                                      n_estimators=500, random_state=2021))])"
      ]
     },
     "execution_count": 136,
     "metadata": {},
     "output_type": "execute_result"
    }
   ],
   "source": [
    "best_et_pipeline"
   ]
  },
  {
   "cell_type": "code",
   "execution_count": 146,
   "metadata": {},
   "outputs": [],
   "source": [
    "et_feature_importances = best_et_pipeline.steps[1][1].feature_importances_"
   ]
  },
  {
   "cell_type": "code",
   "execution_count": 156,
   "metadata": {},
   "outputs": [
    {
     "data": {
      "text/plain": [
       "array([0.00258154, 0.00210923, 0.00210375, 0.00154645, 0.00093808,\n",
       "       0.00171013, 0.00325996, 0.0031624 , 0.00116304, 0.0017475 ,\n",
       "       0.00094902, 0.0027745 , 0.00161545, 0.00187117, 0.00766211,\n",
       "       0.00334701, 0.00121207, 0.00218508, 0.0028421 , 0.00287616,\n",
       "       0.00319884, 0.00352212, 0.00506593, 0.00161343, 0.0020377 ,\n",
       "       0.00566499, 0.00529069, 0.00196316, 0.00181434, 0.00293203,\n",
       "       0.00300064, 0.00957259, 0.00342985, 0.00080783, 0.00232193,\n",
       "       0.00259254, 0.00298754, 0.00328953, 0.00132721, 0.0053727 ,\n",
       "       0.00279809, 0.00276532, 0.00266686, 0.00257322, 0.00188304,\n",
       "       0.00840748, 0.00124447, 0.0015382 , 0.00143316, 0.00388418,\n",
       "       0.00178955, 0.01137902, 0.22498099, 0.04704402, 0.0287052 ,\n",
       "       0.11564627, 0.01268328, 0.11656238, 0.02804118, 0.01105185,\n",
       "       0.03059196, 0.01402612, 0.01080315, 0.01442473, 0.0184699 ,\n",
       "       0.01642787, 0.01950382, 0.13321233])"
      ]
     },
     "execution_count": 156,
     "metadata": {},
     "output_type": "execute_result"
    }
   ],
   "source": [
    "et_feature_importances"
   ]
  },
  {
   "cell_type": "code",
   "execution_count": 139,
   "metadata": {},
   "outputs": [
    {
     "data": {
      "text/plain": [
       "{'columntransformer': ColumnTransformer(transformers=[('onehotencoder', OneHotEncoder(),\n",
       "                                  <sklearn.compose._column_transformer.make_column_selector object at 0x7ffda2b54240>),\n",
       "                                 ('standardscaler', StandardScaler(),\n",
       "                                  <sklearn.compose._column_transformer.make_column_selector object at 0x7ffda2e93be0>)]),\n",
       " 'extratreesclassifier': ExtraTreesClassifier(class_weight='balanced', max_depth=10, n_estimators=500,\n",
       "                      random_state=2021)}"
      ]
     },
     "execution_count": 139,
     "metadata": {},
     "output_type": "execute_result"
    }
   ],
   "source": [
    "best_et_pipeline.named_steps"
   ]
  },
  {
   "cell_type": "code",
   "execution_count": 145,
   "metadata": {},
   "outputs": [
    {
     "ename": "KeyError",
     "evalue": "'standardscaler'",
     "output_type": "error",
     "traceback": [
      "\u001b[0;31m---------------------------------------------------------------------------\u001b[0m",
      "\u001b[0;31mKeyError\u001b[0m                                  Traceback (most recent call last)",
      "\u001b[0;32m<ipython-input-145-587cfc6b5f34>\u001b[0m in \u001b[0;36m<module>\u001b[0;34m()\u001b[0m\n\u001b[0;32m----> 1\u001b[0;31m \u001b[0mbest_et_pipeline\u001b[0m\u001b[0;34m.\u001b[0m\u001b[0mnamed_steps\u001b[0m\u001b[0;34m[\u001b[0m\u001b[0;34m'standardscaler'\u001b[0m\u001b[0;34m]\u001b[0m\u001b[0;34m.\u001b[0m\u001b[0mget_feature_names\u001b[0m\u001b[0;34m(\u001b[0m\u001b[0;34m)\u001b[0m\u001b[0;34m\u001b[0m\u001b[0;34m\u001b[0m\u001b[0m\n\u001b[0m",
      "\u001b[0;31mKeyError\u001b[0m: 'standardscaler'"
     ]
    }
   ],
   "source": [
    "best_et_pipeline.named_steps['standardscaler'].get_feature_names()"
   ]
  },
  {
   "cell_type": "code",
   "execution_count": null,
   "metadata": {},
   "outputs": [],
   "source": [
    "coef_log1 = {}\n",
    "for coef, feat in zip(,X_train_oh_sc_resamp.columns):\n",
    "    coef_log1[feat] = coef\n",
    "    \n",
    "log1_dict = coef_log1\n",
    "\n",
    "log1_dict"
   ]
  },
  {
   "cell_type": "code",
   "execution_count": 180,
   "metadata": {},
   "outputs": [
    {
     "data": {
      "text/plain": [
       "{'account length': 0.002581535009061759,\n",
       " 'international plan': 0.002109226781666918,\n",
       " 'voice mail plan': 0.002103748904989105,\n",
       " 'number vmail messages': 0.0015464521017542058,\n",
       " 'total day minutes': 0.0009380786304271744,\n",
       " 'total day calls': 0.0017101284391014342,\n",
       " 'total day charge': 0.003259961859933837,\n",
       " 'total eve minutes': 0.003162403246382117,\n",
       " 'total eve calls': 0.001163035733859368,\n",
       " 'total eve charge': 0.0017474977005077679,\n",
       " 'total night minutes': 0.000949022695754378,\n",
       " 'total night calls': 0.00277449674239552,\n",
       " 'total night charge': 0.001615454532337387,\n",
       " 'total intl minutes': 0.0018711680184347753,\n",
       " 'total intl calls': 0.007662110949917248,\n",
       " 'total intl charge': 0.0033470091004430204,\n",
       " 'customer service calls': 0.0012120735471571925,\n",
       " 'state_AL': 0.0021850839601399276,\n",
       " 'state_AR': 0.0028421034045458993,\n",
       " 'state_AZ': 0.0028761597008781117,\n",
       " 'state_CA': 0.0031988442117028234,\n",
       " 'state_CO': 0.003522117404406866,\n",
       " 'state_CT': 0.0050659304185273835,\n",
       " 'state_DC': 0.0016134342615055715,\n",
       " 'state_DE': 0.002037695068877698,\n",
       " 'state_FL': 0.0056649931971654455,\n",
       " 'state_GA': 0.005290691670669024,\n",
       " 'state_HI': 0.001963164780482293,\n",
       " 'state_IA': 0.0018143383889070851,\n",
       " 'state_ID': 0.0029320280080530775,\n",
       " 'state_IL': 0.003000642087402915,\n",
       " 'state_IN': 0.009572591918335377,\n",
       " 'state_KS': 0.003429845479083614,\n",
       " 'state_KY': 0.0008078276595648108,\n",
       " 'state_LA': 0.0023219285119033275,\n",
       " 'state_MA': 0.002592538185510956,\n",
       " 'state_MD': 0.0029875442980619557,\n",
       " 'state_ME': 0.003289530821047442,\n",
       " 'state_MI': 0.0013272109704927527,\n",
       " 'state_MN': 0.0053726952212992014,\n",
       " 'state_MO': 0.0027980935473749424,\n",
       " 'state_MS': 0.002765317849859196,\n",
       " 'state_MT': 0.002666864603046606,\n",
       " 'state_NC': 0.0025732230635227573,\n",
       " 'state_ND': 0.0018830434983831946,\n",
       " 'state_NE': 0.008407482131791403,\n",
       " 'state_NH': 0.0012444668887570405,\n",
       " 'state_NJ': 0.0015382017204546336,\n",
       " 'state_NM': 0.001433162330578279,\n",
       " 'state_NV': 0.0038841797417788508,\n",
       " 'state_NY': 0.0017895544449304758,\n",
       " 'state_OH': 0.01137901545477919,\n",
       " 'state_OK': 0.22498099483708336,\n",
       " 'state_OR': 0.04704402365323128,\n",
       " 'state_PA': 0.028705195557722524,\n",
       " 'state_RI': 0.11564626550953369,\n",
       " 'state_SC': 0.01268328132099445,\n",
       " 'state_SD': 0.11656237945609005,\n",
       " 'state_TN': 0.028041183257478668,\n",
       " 'state_TX': 0.011051847843481418,\n",
       " 'state_UT': 0.03059196055066666,\n",
       " 'state_VA': 0.014026119195891354,\n",
       " 'state_VT': 0.010803147131477786,\n",
       " 'state_WA': 0.014424733457593295,\n",
       " 'state_WI': 0.01846990216632646,\n",
       " 'state_WV': 0.0164278681998617,\n",
       " 'state_WY': 0.01950381751051553}"
      ]
     },
     "execution_count": 180,
     "metadata": {},
     "output_type": "execute_result"
    }
   ],
   "source": [
    "et_dict"
   ]
  },
  {
   "cell_type": "code",
   "execution_count": 183,
   "metadata": {},
   "outputs": [
    {
     "data": {
      "text/plain": [
       "{'account length': 0.002581535009061759,\n",
       " 'international plan': 0.002109226781666918,\n",
       " 'voice mail plan': 0.002103748904989105,\n",
       " 'number vmail messages': 0.0015464521017542058,\n",
       " 'total day minutes': 0.0009380786304271744,\n",
       " 'total day calls': 0.0017101284391014342,\n",
       " 'total day charge': 0.003259961859933837,\n",
       " 'total eve minutes': 0.003162403246382117,\n",
       " 'total eve calls': 0.001163035733859368,\n",
       " 'total eve charge': 0.0017474977005077679,\n",
       " 'total night minutes': 0.000949022695754378,\n",
       " 'total night calls': 0.00277449674239552,\n",
       " 'total night charge': 0.001615454532337387,\n",
       " 'total intl minutes': 0.0018711680184347753,\n",
       " 'total intl calls': 0.007662110949917248,\n",
       " 'total intl charge': 0.0033470091004430204,\n",
       " 'customer service calls': 0.0012120735471571925}"
      ]
     },
     "execution_count": 183,
     "metadata": {},
     "output_type": "execute_result"
    }
   ],
   "source": [
    "et_feat_imp = {}\n",
    "for coef, feat in zip(et_feature_importances,X_train_oh_sc_resamp.columns):\n",
    "    et_feat_imp[feat] = coef\n",
    "    \n",
    "et_dict = et_feat_imp\n",
    "\n",
    "et_dict\n",
    "\n",
    "et_items = et_dict.items()\n",
    "top_17 = list(et_items)[:17]\n",
    "\n",
    "dict(top_17)"
   ]
  },
  {
   "cell_type": "code",
   "execution_count": 181,
   "metadata": {},
   "outputs": [
    {
     "data": {
      "text/plain": [
       "[('state_OK', 0.22498099483708336),\n",
       " ('state_SD', 0.11656237945609005),\n",
       " ('state_RI', 0.11564626550953369),\n",
       " ('state_OR', 0.04704402365323128),\n",
       " ('state_UT', 0.03059196055066666),\n",
       " ('state_PA', 0.028705195557722524),\n",
       " ('state_TN', 0.028041183257478668),\n",
       " ('state_WY', 0.01950381751051553),\n",
       " ('state_WI', 0.01846990216632646),\n",
       " ('state_WV', 0.0164278681998617),\n",
       " ('state_WA', 0.014424733457593295),\n",
       " ('state_VA', 0.014026119195891354),\n",
       " ('state_SC', 0.01268328132099445),\n",
       " ('state_OH', 0.01137901545477919),\n",
       " ('state_TX', 0.011051847843481418),\n",
       " ('state_VT', 0.010803147131477786),\n",
       " ('state_IN', 0.009572591918335377),\n",
       " ('state_NE', 0.008407482131791403),\n",
       " ('total intl calls', 0.007662110949917248),\n",
       " ('state_FL', 0.0056649931971654455),\n",
       " ('state_MN', 0.0053726952212992014),\n",
       " ('state_GA', 0.005290691670669024),\n",
       " ('state_CT', 0.0050659304185273835),\n",
       " ('state_NV', 0.0038841797417788508),\n",
       " ('state_CO', 0.003522117404406866),\n",
       " ('state_KS', 0.003429845479083614),\n",
       " ('total intl charge', 0.0033470091004430204),\n",
       " ('state_ME', 0.003289530821047442),\n",
       " ('total day charge', 0.003259961859933837),\n",
       " ('state_CA', 0.0031988442117028234),\n",
       " ('total eve minutes', 0.003162403246382117),\n",
       " ('state_IL', 0.003000642087402915),\n",
       " ('state_MD', 0.0029875442980619557),\n",
       " ('state_ID', 0.0029320280080530775),\n",
       " ('state_AZ', 0.0028761597008781117),\n",
       " ('state_AR', 0.0028421034045458993),\n",
       " ('state_MO', 0.0027980935473749424),\n",
       " ('total night calls', 0.00277449674239552),\n",
       " ('state_MS', 0.002765317849859196),\n",
       " ('state_MT', 0.002666864603046606),\n",
       " ('state_MA', 0.002592538185510956),\n",
       " ('account length', 0.002581535009061759),\n",
       " ('state_NC', 0.0025732230635227573),\n",
       " ('state_LA', 0.0023219285119033275),\n",
       " ('state_AL', 0.0021850839601399276),\n",
       " ('international plan', 0.002109226781666918),\n",
       " ('voice mail plan', 0.002103748904989105),\n",
       " ('state_DE', 0.002037695068877698),\n",
       " ('state_HI', 0.001963164780482293),\n",
       " ('state_ND', 0.0018830434983831946),\n",
       " ('total intl minutes', 0.0018711680184347753),\n",
       " ('state_IA', 0.0018143383889070851),\n",
       " ('state_NY', 0.0017895544449304758),\n",
       " ('total eve charge', 0.0017474977005077679),\n",
       " ('total day calls', 0.0017101284391014342),\n",
       " ('total night charge', 0.001615454532337387),\n",
       " ('state_DC', 0.0016134342615055715),\n",
       " ('number vmail messages', 0.0015464521017542058),\n",
       " ('state_NJ', 0.0015382017204546336),\n",
       " ('state_NM', 0.001433162330578279),\n",
       " ('state_MI', 0.0013272109704927527),\n",
       " ('state_NH', 0.0012444668887570405),\n",
       " ('customer service calls', 0.0012120735471571925),\n",
       " ('total eve calls', 0.001163035733859368),\n",
       " ('total night minutes', 0.000949022695754378),\n",
       " ('total day minutes', 0.0009380786304271744),\n",
       " ('state_KY', 0.0008078276595648108)]"
      ]
     },
     "execution_count": 181,
     "metadata": {},
     "output_type": "execute_result"
    }
   ],
   "source": [
    "def top_num(my_dict, top_num=5):\n",
    "    dict_keys = [key for key in my_dict.keys()]\n",
    "    dict_values = [abs(value) for value in my_dict.values()]\n",
    "    \n",
    "    my_dict = {dict_keys[x]: dict_values[x] for x in range(len(dict_values))}\n",
    "    my_dict = dict(list(my_dict.items())[:])\n",
    "    features_and_importances = zip(my_dict.keys(), my_dict.values())\n",
    "    features_and_importances = sorted(features_and_importances, key = lambda x: x[1], reverse=True)\n",
    "    \n",
    "    return features_and_importances\n",
    "#     features = [i[0].title() for i in features_and_importances[:top_num+1]]\n",
    "#     print(features)\n",
    "#     importances = [abs(i[1]) for i in features_and_importances[:top_num+1]]\n",
    "#     print(importances)\n",
    "top_num(et_dict)"
   ]
  },
  {
   "cell_type": "code",
   "execution_count": 192,
   "metadata": {},
   "outputs": [],
   "source": [
    "top_17_dict = dict(top_17)"
   ]
  },
  {
   "cell_type": "code",
   "execution_count": 188,
   "metadata": {},
   "outputs": [
    {
     "data": {
      "text/plain": [
       "[('total intl calls', 0.007662110949917248),\n",
       " ('total intl charge', 0.0033470091004430204),\n",
       " ('total day charge', 0.003259961859933837),\n",
       " ('total eve minutes', 0.003162403246382117),\n",
       " ('total night calls', 0.00277449674239552),\n",
       " ('account length', 0.002581535009061759),\n",
       " ('international plan', 0.002109226781666918),\n",
       " ('voice mail plan', 0.002103748904989105),\n",
       " ('total intl minutes', 0.0018711680184347753),\n",
       " ('total eve charge', 0.0017474977005077679),\n",
       " ('total day calls', 0.0017101284391014342),\n",
       " ('total night charge', 0.001615454532337387),\n",
       " ('number vmail messages', 0.0015464521017542058),\n",
       " ('customer service calls', 0.0012120735471571925),\n",
       " ('total eve calls', 0.001163035733859368),\n",
       " ('total night minutes', 0.000949022695754378),\n",
       " ('total day minutes', 0.0009380786304271744)]"
      ]
     },
     "execution_count": 188,
     "metadata": {},
     "output_type": "execute_result"
    }
   ],
   "source": [
    "top_num(dict(top_17))"
   ]
  },
  {
   "cell_type": "code",
   "execution_count": 190,
   "metadata": {},
   "outputs": [
    {
     "data": {
      "text/plain": [
       "[('total intl calls', 0.007662110949917248),\n",
       " ('total intl charge', 0.0033470091004430204),\n",
       " ('total day charge', 0.003259961859933837),\n",
       " ('total eve minutes', 0.003162403246382117),\n",
       " ('total night calls', 0.00277449674239552)]"
      ]
     },
     "execution_count": 190,
     "metadata": {},
     "output_type": "execute_result"
    }
   ],
   "source": [
    "ordered_top_17 = top_num(dict(top_17))\n",
    "\n",
    "top_5_feat = ordered_top_17[:5]\n",
    "\n",
    "top_5_feat"
   ]
  },
  {
   "cell_type": "code",
   "execution_count": 193,
   "metadata": {},
   "outputs": [
    {
     "data": {
      "text/plain": [
       "{'account length': 0.002581535009061759,\n",
       " 'international plan': 0.002109226781666918,\n",
       " 'voice mail plan': 0.002103748904989105,\n",
       " 'number vmail messages': 0.0015464521017542058,\n",
       " 'total day minutes': 0.0009380786304271744,\n",
       " 'total day calls': 0.0017101284391014342,\n",
       " 'total day charge': 0.003259961859933837,\n",
       " 'total eve minutes': 0.003162403246382117,\n",
       " 'total eve calls': 0.001163035733859368,\n",
       " 'total eve charge': 0.0017474977005077679,\n",
       " 'total night minutes': 0.000949022695754378,\n",
       " 'total night calls': 0.00277449674239552,\n",
       " 'total night charge': 0.001615454532337387,\n",
       " 'total intl minutes': 0.0018711680184347753,\n",
       " 'total intl calls': 0.007662110949917248,\n",
       " 'total intl charge': 0.0033470091004430204,\n",
       " 'customer service calls': 0.0012120735471571925}"
      ]
     },
     "execution_count": 193,
     "metadata": {},
     "output_type": "execute_result"
    }
   ],
   "source": [
    "top_17_dict"
   ]
  },
  {
   "cell_type": "code",
   "execution_count": null,
   "metadata": {},
   "outputs": [],
   "source": []
  },
  {
   "cell_type": "code",
   "execution_count": 130,
   "metadata": {},
   "outputs": [
    {
     "ename": "NameError",
     "evalue": "name 'feature_selection' is not defined",
     "output_type": "error",
     "traceback": [
      "\u001b[0;31m---------------------------------------------------------------------------\u001b[0m",
      "\u001b[0;31mNameError\u001b[0m                                 Traceback (most recent call last)",
      "\u001b[0;32m<ipython-input-130-2bc2bea679ad>\u001b[0m in \u001b[0;36m<module>\u001b[0;34m()\u001b[0m\n\u001b[1;32m      4\u001b[0m \u001b[0;32mfrom\u001b[0m \u001b[0msklearn\u001b[0m\u001b[0;34m.\u001b[0m\u001b[0mfeature_selection\u001b[0m \u001b[0;32mimport\u001b[0m \u001b[0mSelectFromModel\u001b[0m\u001b[0;34m\u001b[0m\u001b[0;34m\u001b[0m\u001b[0m\n\u001b[1;32m      5\u001b[0m \u001b[0;34m\u001b[0m\u001b[0m\n\u001b[0;32m----> 6\u001b[0;31m \u001b[0mfeature_importance\u001b[0m \u001b[0;34m=\u001b[0m \u001b[0mfeature_selection\u001b[0m\u001b[0;34m(\u001b[0m\u001b[0mbest_et_pipeline\u001b[0m\u001b[0;34m)\u001b[0m\u001b[0;34m\u001b[0m\u001b[0;34m\u001b[0m\u001b[0m\n\u001b[0m\u001b[1;32m      7\u001b[0m \u001b[0mfeature_importance\u001b[0m\u001b[0;34m.\u001b[0m\u001b[0mplot\u001b[0m\u001b[0;34m(\u001b[0m\u001b[0mtop_n_features\u001b[0m\u001b[0;34m=\u001b[0m\u001b[0;36m5\u001b[0m\u001b[0;34m)\u001b[0m\u001b[0;34m\u001b[0m\u001b[0;34m\u001b[0m\u001b[0m\n",
      "\u001b[0;31mNameError\u001b[0m: name 'feature_selection' is not defined"
     ]
    }
   ],
   "source": [
    "#from sklearn.feature_selection import FeatureImportance\n",
    "#from sklearn.pipeline import Pipeline\n",
    "\n",
    "from sklearn.feature_selection import SelectFromModel\n",
    "\n",
    "feature_importance = feature_selection(best_et_pipeline)\n",
    "feature_importance.plot(top_n_features=5)\n"
   ]
  },
  {
   "cell_type": "markdown",
   "metadata": {},
   "source": [
    "## STOP"
   ]
  },
  {
   "cell_type": "code",
   "execution_count": 111,
   "metadata": {},
   "outputs": [],
   "source": [
    "from sklearn.metrics import plot_confusion_matrix"
   ]
  },
  {
   "cell_type": "code",
   "execution_count": 117,
   "metadata": {},
   "outputs": [
    {
     "data": {
      "text/html": [
       "<div>\n",
       "<style scoped>\n",
       "    .dataframe tbody tr th:only-of-type {\n",
       "        vertical-align: middle;\n",
       "    }\n",
       "\n",
       "    .dataframe tbody tr th {\n",
       "        vertical-align: top;\n",
       "    }\n",
       "\n",
       "    .dataframe thead th {\n",
       "        text-align: right;\n",
       "    }\n",
       "</style>\n",
       "<table border=\"1\" class=\"dataframe\">\n",
       "  <thead>\n",
       "    <tr style=\"text-align: right;\">\n",
       "      <th></th>\n",
       "      <th>F1 Score</th>\n",
       "    </tr>\n",
       "  </thead>\n",
       "  <tbody>\n",
       "    <tr>\n",
       "      <th>LogisticRegression</th>\n",
       "      <td>0.290272</td>\n",
       "    </tr>\n",
       "    <tr>\n",
       "      <th>KNeighbors</th>\n",
       "      <td>0.019048</td>\n",
       "    </tr>\n",
       "    <tr>\n",
       "      <th>RandomForest</th>\n",
       "      <td>0.409684</td>\n",
       "    </tr>\n",
       "    <tr>\n",
       "      <th>ExtraTrees</th>\n",
       "      <td>0.303463</td>\n",
       "    </tr>\n",
       "    <tr>\n",
       "      <th>DecisionTree</th>\n",
       "      <td>0.546637</td>\n",
       "    </tr>\n",
       "  </tbody>\n",
       "</table>\n",
       "</div>"
      ],
      "text/plain": [
       "                    F1 Score\n",
       "LogisticRegression  0.290272\n",
       "KNeighbors          0.019048\n",
       "RandomForest        0.409684\n",
       "ExtraTrees          0.303463\n",
       "DecisionTree        0.546637"
      ]
     },
     "execution_count": 117,
     "metadata": {},
     "output_type": "execute_result"
    }
   ],
   "source": [
    "f1_scores_dict = {\n",
    "    \"F1 Score\": [\n",
    "        cross_val_score(log1, X_test_final, y_test, scoring='f1').mean(), \n",
    "        cross_val_score(knc1, X_test_final, y_test, scoring='f1').mean(),\n",
    "        cross_val_score(rfc1, X_test_final, y_test, scoring='f1').mean(),\n",
    "        cross_val_score(etc1, X_test_final, y_test, scoring='f1').mean(),\n",
    "        cross_val_score(dtc1, X_test_final, y_test, scoring='f1').mean()\n",
    "    ]\n",
    "}\n",
    "f1_scores_df = pd.DataFrame(f1_scores_dict, index=[\"LogisticRegression\", \"KNeighbors\", \"RandomForest\", \"ExtraTrees\", \"DecisionTree\"])\n",
    "f1_scores_df"
   ]
  },
  {
   "cell_type": "code",
   "execution_count": 113,
   "metadata": {},
   "outputs": [],
   "source": [
    "#knc1.fit(X_train_oh_sc_resamp, y_train_resamp)"
   ]
  },
  {
   "cell_type": "code",
   "execution_count": 114,
   "metadata": {},
   "outputs": [
    {
     "data": {
      "text/plain": [
       "sklearn.neighbors._classification.KNeighborsClassifier"
      ]
     },
     "execution_count": 114,
     "metadata": {},
     "output_type": "execute_result"
    }
   ],
   "source": [
    "type(knc1)"
   ]
  },
  {
   "cell_type": "code",
   "execution_count": 115,
   "metadata": {},
   "outputs": [],
   "source": [
    "X_test_final = scale2021(ohe2021(X_test, ['state']))"
   ]
  },
  {
   "cell_type": "code",
   "execution_count": 116,
   "metadata": {},
   "outputs": [
    {
     "data": {
      "image/png": "[encoded data removed]",
      "text/plain": [
       "<Figure size 1080x432 with 10 Axes>"
      ]
     },
     "metadata": {
      "needs_background": "light"
     },
     "output_type": "display_data"
    },
    {
     "data": {
      "text/plain": [
       "<function matplotlib.pyplot.close>"
      ]
     },
     "execution_count": 116,
     "metadata": {},
     "output_type": "execute_result"
    }
   ],
   "source": [
    "from sklearn.metrics import plot_confusion_matrix\n",
    "import matplotlib.pyplot as plt\n",
    "\n",
    "fig, axes = plt.subplots(nrows=1, ncols=5, figsize=(15, 6), sharey=True)\n",
    "\n",
    "plt.title(\"Confusion Matrix Comparison\")\n",
    "\n",
    "axes[0].set_title(\"LogisticRegression\")\n",
    "axes[1].set_title(\"KNeighbors\")\n",
    "axes[2].set_title(\"RandomForest\")\n",
    "axes[3].set_title(\"ExtraTrees\")\n",
    "axes[4].set_title(\"DecisionTree\")\n",
    "\n",
    "plot_confusion_matrix(log1, X_test_final, y_test, ax=axes[0], cmap=\"plasma\")\n",
    "plot_confusion_matrix(knc1, X_test_final, y_test, ax=axes[1], cmap=\"plasma\")\n",
    "plot_confusion_matrix(rfc1, X_test_final, y_test, ax=axes[2], cmap=\"plasma\");\n",
    "plot_confusion_matrix(etc1, X_test_final, y_test, ax=axes[3], cmap=\"plasma\")\n",
    "plot_confusion_matrix(dtc1, X_test_final, y_test, ax=axes[4], cmap=\"plasma\")\n",
    "\n",
    "plt.savefig('Various Confusion Matix')\n",
    "plt.tight_layout()\n",
    "plt.show()\n",
    "plt.close"
   ]
  },
  {
   "cell_type": "code",
   "execution_count": 88,
   "metadata": {},
   "outputs": [
    {
     "data": {
      "text/plain": [
       "array([0.90449438, 0.89681051, 0.91744841, 0.92120075, 0.93058161])"
      ]
     },
     "execution_count": 88,
     "metadata": {},
     "output_type": "execute_result"
    }
   ],
   "source": [
    "from sklearn.model_selection import train_test_split, cross_val_score\n",
    "from sklearn.metrics import accuracy_score\n",
    "\n",
    "cross_val_score(dt_pipeline, X_train, y_train)"
   ]
  },
  {
   "cell_type": "code",
   "execution_count": 89,
   "metadata": {},
   "outputs": [
    {
     "data": {
      "text/plain": [
       "array([0.91385768, 0.93621013, 0.93433396, 0.93621013, 0.94371482])"
      ]
     },
     "execution_count": 89,
     "metadata": {},
     "output_type": "execute_result"
    }
   ],
   "source": [
    "cross_val_score(rf_pipeline, X_train, y_train)"
   ]
  },
  {
   "cell_type": "code",
   "execution_count": 90,
   "metadata": {},
   "outputs": [],
   "source": [
    "#lets create a function that will OneHotEncode our categorical features for us\n",
    "\n",
    "from sklearn.preprocessing import OneHotEncoder\n",
    "\n",
    "def ohe2021(X, column_name):\n",
    "    \n",
    "    #grab categorical columns\n",
    "    X_cat = X[column_name]\n",
    "\n",
    "    #grab numeric columns\n",
    "    X_num = X.drop(column_name, axis=1)\n",
    "    \n",
    "    #let's now OneHotEncode\n",
    "    ohe = OneHotEncoder(sparse=False, drop='first')\n",
    "    X_cat_oh = pd.DataFrame(ohe.fit_transform(X_cat), index= X_cat.index, columns=ohe.get_feature_names(X_cat.columns))\n",
    "    \n",
    "    #combine X_num with X_cat now that its OneHotEncoded\n",
    "    X = X_num.join(X_cat_oh)\n",
    "    \n",
    "    return X"
   ]
  },
  {
   "cell_type": "code",
   "execution_count": 91,
   "metadata": {},
   "outputs": [],
   "source": [
    "X_train_oh = ohe2021(X_train, ['state'])"
   ]
  },
  {
   "cell_type": "code",
   "execution_count": 92,
   "metadata": {},
   "outputs": [
    {
     "data": {
      "text/html": [
       "<div>\n",
       "<style scoped>\n",
       "    .dataframe tbody tr th:only-of-type {\n",
       "        vertical-align: middle;\n",
       "    }\n",
       "\n",
       "    .dataframe tbody tr th {\n",
       "        vertical-align: top;\n",
       "    }\n",
       "\n",
       "    .dataframe thead th {\n",
       "        text-align: right;\n",
       "    }\n",
       "</style>\n",
       "<table border=\"1\" class=\"dataframe\">\n",
       "  <thead>\n",
       "    <tr style=\"text-align: right;\">\n",
       "      <th></th>\n",
       "      <th>account length</th>\n",
       "      <th>international plan</th>\n",
       "      <th>voice mail plan</th>\n",
       "      <th>number vmail messages</th>\n",
       "      <th>total day minutes</th>\n",
       "      <th>total day calls</th>\n",
       "      <th>total day charge</th>\n",
       "      <th>total eve minutes</th>\n",
       "      <th>total eve calls</th>\n",
       "      <th>total eve charge</th>\n",
       "      <th>...</th>\n",
       "      <th>state_SD</th>\n",
       "      <th>state_TN</th>\n",
       "      <th>state_TX</th>\n",
       "      <th>state_UT</th>\n",
       "      <th>state_VA</th>\n",
       "      <th>state_VT</th>\n",
       "      <th>state_WA</th>\n",
       "      <th>state_WI</th>\n",
       "      <th>state_WV</th>\n",
       "      <th>state_WY</th>\n",
       "    </tr>\n",
       "  </thead>\n",
       "  <tbody>\n",
       "    <tr>\n",
       "      <th>561</th>\n",
       "      <td>53</td>\n",
       "      <td>0</td>\n",
       "      <td>1</td>\n",
       "      <td>18</td>\n",
       "      <td>146.8</td>\n",
       "      <td>107</td>\n",
       "      <td>24.96</td>\n",
       "      <td>310.0</td>\n",
       "      <td>84</td>\n",
       "      <td>26.35</td>\n",
       "      <td>...</td>\n",
       "      <td>0.0</td>\n",
       "      <td>0.0</td>\n",
       "      <td>0.0</td>\n",
       "      <td>0.0</td>\n",
       "      <td>0.0</td>\n",
       "      <td>0.0</td>\n",
       "      <td>0.0</td>\n",
       "      <td>0.0</td>\n",
       "      <td>0.0</td>\n",
       "      <td>0.0</td>\n",
       "    </tr>\n",
       "    <tr>\n",
       "      <th>1764</th>\n",
       "      <td>77</td>\n",
       "      <td>0</td>\n",
       "      <td>0</td>\n",
       "      <td>0</td>\n",
       "      <td>245.2</td>\n",
       "      <td>87</td>\n",
       "      <td>41.68</td>\n",
       "      <td>254.1</td>\n",
       "      <td>83</td>\n",
       "      <td>21.60</td>\n",
       "      <td>...</td>\n",
       "      <td>0.0</td>\n",
       "      <td>0.0</td>\n",
       "      <td>0.0</td>\n",
       "      <td>0.0</td>\n",
       "      <td>0.0</td>\n",
       "      <td>0.0</td>\n",
       "      <td>0.0</td>\n",
       "      <td>0.0</td>\n",
       "      <td>0.0</td>\n",
       "      <td>0.0</td>\n",
       "    </tr>\n",
       "    <tr>\n",
       "      <th>1733</th>\n",
       "      <td>130</td>\n",
       "      <td>0</td>\n",
       "      <td>0</td>\n",
       "      <td>0</td>\n",
       "      <td>124.3</td>\n",
       "      <td>70</td>\n",
       "      <td>21.13</td>\n",
       "      <td>270.7</td>\n",
       "      <td>99</td>\n",
       "      <td>23.01</td>\n",
       "      <td>...</td>\n",
       "      <td>0.0</td>\n",
       "      <td>0.0</td>\n",
       "      <td>0.0</td>\n",
       "      <td>0.0</td>\n",
       "      <td>0.0</td>\n",
       "      <td>0.0</td>\n",
       "      <td>1.0</td>\n",
       "      <td>0.0</td>\n",
       "      <td>0.0</td>\n",
       "      <td>0.0</td>\n",
       "    </tr>\n",
       "    <tr>\n",
       "      <th>3168</th>\n",
       "      <td>201</td>\n",
       "      <td>0</td>\n",
       "      <td>0</td>\n",
       "      <td>0</td>\n",
       "      <td>225.9</td>\n",
       "      <td>110</td>\n",
       "      <td>38.40</td>\n",
       "      <td>299.1</td>\n",
       "      <td>86</td>\n",
       "      <td>25.42</td>\n",
       "      <td>...</td>\n",
       "      <td>0.0</td>\n",
       "      <td>0.0</td>\n",
       "      <td>1.0</td>\n",
       "      <td>0.0</td>\n",
       "      <td>0.0</td>\n",
       "      <td>0.0</td>\n",
       "      <td>0.0</td>\n",
       "      <td>0.0</td>\n",
       "      <td>0.0</td>\n",
       "      <td>0.0</td>\n",
       "    </tr>\n",
       "    <tr>\n",
       "      <th>562</th>\n",
       "      <td>99</td>\n",
       "      <td>0</td>\n",
       "      <td>1</td>\n",
       "      <td>28</td>\n",
       "      <td>200.7</td>\n",
       "      <td>88</td>\n",
       "      <td>34.12</td>\n",
       "      <td>264.2</td>\n",
       "      <td>116</td>\n",
       "      <td>22.46</td>\n",
       "      <td>...</td>\n",
       "      <td>0.0</td>\n",
       "      <td>0.0</td>\n",
       "      <td>0.0</td>\n",
       "      <td>0.0</td>\n",
       "      <td>0.0</td>\n",
       "      <td>0.0</td>\n",
       "      <td>0.0</td>\n",
       "      <td>0.0</td>\n",
       "      <td>0.0</td>\n",
       "      <td>1.0</td>\n",
       "    </tr>\n",
       "  </tbody>\n",
       "</table>\n",
       "<p>5 rows × 67 columns</p>\n",
       "</div>"
      ],
      "text/plain": [
       "      account length  international plan  voice mail plan  \\\n",
       "561               53                   0                1   \n",
       "1764              77                   0                0   \n",
       "1733             130                   0                0   \n",
       "3168             201                   0                0   \n",
       "562               99                   0                1   \n",
       "\n",
       "      number vmail messages  total day minutes  total day calls  \\\n",
       "561                      18              146.8              107   \n",
       "1764                      0              245.2               87   \n",
       "1733                      0              124.3               70   \n",
       "3168                      0              225.9              110   \n",
       "562                      28              200.7               88   \n",
       "\n",
       "      total day charge  total eve minutes  total eve calls  total eve charge  \\\n",
       "561              24.96              310.0               84             26.35   \n",
       "1764             41.68              254.1               83             21.60   \n",
       "1733             21.13              270.7               99             23.01   \n",
       "3168             38.40              299.1               86             25.42   \n",
       "562              34.12              264.2              116             22.46   \n",
       "\n",
       "      ...  state_SD  state_TN  state_TX  state_UT  state_VA  state_VT  \\\n",
       "561   ...       0.0       0.0       0.0       0.0       0.0       0.0   \n",
       "1764  ...       0.0       0.0       0.0       0.0       0.0       0.0   \n",
       "1733  ...       0.0       0.0       0.0       0.0       0.0       0.0   \n",
       "3168  ...       0.0       0.0       1.0       0.0       0.0       0.0   \n",
       "562   ...       0.0       0.0       0.0       0.0       0.0       0.0   \n",
       "\n",
       "      state_WA  state_WI  state_WV  state_WY  \n",
       "561        0.0       0.0       0.0       0.0  \n",
       "1764       0.0       0.0       0.0       0.0  \n",
       "1733       1.0       0.0       0.0       0.0  \n",
       "3168       0.0       0.0       0.0       0.0  \n",
       "562        0.0       0.0       0.0       1.0  \n",
       "\n",
       "[5 rows x 67 columns]"
      ]
     },
     "execution_count": 92,
     "metadata": {},
     "output_type": "execute_result"
    }
   ],
   "source": [
    "#we can now see that our training dataframe has been OneHotEncoded\n",
    "\n",
    "X_train_oh.head()"
   ]
  },
  {
   "cell_type": "code",
   "execution_count": 93,
   "metadata": {},
   "outputs": [],
   "source": [
    "#let's now create a function that can scale our data, remember that we only scale on our TRAINING data\n",
    "\n",
    "from sklearn.preprocessing import StandardScaler\n",
    "\n",
    "def scale2021(X):\n",
    "    \n",
    "    ss = StandardScaler()\n",
    "    \n",
    "    X_scaled = pd.DataFrame(ss.fit_transform(X))\n",
    "    \n",
    "    X_scaled.index = X.index\n",
    "    \n",
    "    X_scaled.columns = X.columns\n",
    "    \n",
    "    return X_scaled\n",
    "\n",
    "X_train_oh_sc = scale2021(X_train_oh)"
   ]
  },
  {
   "cell_type": "code",
   "execution_count": 94,
   "metadata": {},
   "outputs": [
    {
     "data": {
      "text/html": [
       "<div>\n",
       "<style scoped>\n",
       "    .dataframe tbody tr th:only-of-type {\n",
       "        vertical-align: middle;\n",
       "    }\n",
       "\n",
       "    .dataframe tbody tr th {\n",
       "        vertical-align: top;\n",
       "    }\n",
       "\n",
       "    .dataframe thead th {\n",
       "        text-align: right;\n",
       "    }\n",
       "</style>\n",
       "<table border=\"1\" class=\"dataframe\">\n",
       "  <thead>\n",
       "    <tr style=\"text-align: right;\">\n",
       "      <th></th>\n",
       "      <th>account length</th>\n",
       "      <th>international plan</th>\n",
       "      <th>voice mail plan</th>\n",
       "      <th>number vmail messages</th>\n",
       "      <th>total day minutes</th>\n",
       "      <th>total day calls</th>\n",
       "      <th>total day charge</th>\n",
       "      <th>total eve minutes</th>\n",
       "      <th>total eve calls</th>\n",
       "      <th>total eve charge</th>\n",
       "      <th>...</th>\n",
       "      <th>state_SD</th>\n",
       "      <th>state_TN</th>\n",
       "      <th>state_TX</th>\n",
       "      <th>state_UT</th>\n",
       "      <th>state_VA</th>\n",
       "      <th>state_VT</th>\n",
       "      <th>state_WA</th>\n",
       "      <th>state_WI</th>\n",
       "      <th>state_WV</th>\n",
       "      <th>state_WY</th>\n",
       "    </tr>\n",
       "  </thead>\n",
       "  <tbody>\n",
       "    <tr>\n",
       "      <th>561</th>\n",
       "      <td>-1.215926</td>\n",
       "      <td>-0.328029</td>\n",
       "      <td>1.620867</td>\n",
       "      <td>0.719950</td>\n",
       "      <td>-0.594966</td>\n",
       "      <td>0.326270</td>\n",
       "      <td>-0.594598</td>\n",
       "      <td>2.150149</td>\n",
       "      <td>-0.806009</td>\n",
       "      <td>2.150108</td>\n",
       "      <td>...</td>\n",
       "      <td>-0.131031</td>\n",
       "      <td>-0.126515</td>\n",
       "      <td>-0.147809</td>\n",
       "      <td>-0.160559</td>\n",
       "      <td>-0.156833</td>\n",
       "      <td>-0.151736</td>\n",
       "      <td>-0.133962</td>\n",
       "      <td>-0.151736</td>\n",
       "      <td>-0.185839</td>\n",
       "      <td>-0.153025</td>\n",
       "    </tr>\n",
       "    <tr>\n",
       "      <th>1764</th>\n",
       "      <td>-0.613634</td>\n",
       "      <td>-0.328029</td>\n",
       "      <td>-0.616954</td>\n",
       "      <td>-0.591007</td>\n",
       "      <td>1.193361</td>\n",
       "      <td>-0.660331</td>\n",
       "      <td>1.192879</td>\n",
       "      <td>1.045323</td>\n",
       "      <td>-0.856365</td>\n",
       "      <td>1.045630</td>\n",
       "      <td>...</td>\n",
       "      <td>-0.131031</td>\n",
       "      <td>-0.126515</td>\n",
       "      <td>-0.147809</td>\n",
       "      <td>-0.160559</td>\n",
       "      <td>-0.156833</td>\n",
       "      <td>-0.151736</td>\n",
       "      <td>-0.133962</td>\n",
       "      <td>-0.151736</td>\n",
       "      <td>-0.185839</td>\n",
       "      <td>-0.153025</td>\n",
       "    </tr>\n",
       "    <tr>\n",
       "      <th>1733</th>\n",
       "      <td>0.716426</td>\n",
       "      <td>-0.328029</td>\n",
       "      <td>-0.616954</td>\n",
       "      <td>-0.591007</td>\n",
       "      <td>-1.003882</td>\n",
       "      <td>-1.498942</td>\n",
       "      <td>-1.004050</td>\n",
       "      <td>1.373411</td>\n",
       "      <td>-0.050659</td>\n",
       "      <td>1.373485</td>\n",
       "      <td>...</td>\n",
       "      <td>-0.131031</td>\n",
       "      <td>-0.126515</td>\n",
       "      <td>-0.147809</td>\n",
       "      <td>-0.160559</td>\n",
       "      <td>-0.156833</td>\n",
       "      <td>-0.151736</td>\n",
       "      <td>7.464811</td>\n",
       "      <td>-0.151736</td>\n",
       "      <td>-0.185839</td>\n",
       "      <td>-0.153025</td>\n",
       "    </tr>\n",
       "    <tr>\n",
       "      <th>3168</th>\n",
       "      <td>2.498205</td>\n",
       "      <td>-0.328029</td>\n",
       "      <td>-0.616954</td>\n",
       "      <td>-0.591007</td>\n",
       "      <td>0.842602</td>\n",
       "      <td>0.474261</td>\n",
       "      <td>0.842226</td>\n",
       "      <td>1.934718</td>\n",
       "      <td>-0.705295</td>\n",
       "      <td>1.933863</td>\n",
       "      <td>...</td>\n",
       "      <td>-0.131031</td>\n",
       "      <td>-0.126515</td>\n",
       "      <td>6.765496</td>\n",
       "      <td>-0.160559</td>\n",
       "      <td>-0.156833</td>\n",
       "      <td>-0.151736</td>\n",
       "      <td>-0.133962</td>\n",
       "      <td>-0.151736</td>\n",
       "      <td>-0.185839</td>\n",
       "      <td>-0.153025</td>\n",
       "    </tr>\n",
       "    <tr>\n",
       "      <th>562</th>\n",
       "      <td>-0.061534</td>\n",
       "      <td>-0.328029</td>\n",
       "      <td>1.620867</td>\n",
       "      <td>1.448259</td>\n",
       "      <td>0.384616</td>\n",
       "      <td>-0.611001</td>\n",
       "      <td>0.384666</td>\n",
       "      <td>1.244943</td>\n",
       "      <td>0.805404</td>\n",
       "      <td>1.245598</td>\n",
       "      <td>...</td>\n",
       "      <td>-0.131031</td>\n",
       "      <td>-0.126515</td>\n",
       "      <td>-0.147809</td>\n",
       "      <td>-0.160559</td>\n",
       "      <td>-0.156833</td>\n",
       "      <td>-0.151736</td>\n",
       "      <td>-0.133962</td>\n",
       "      <td>-0.151736</td>\n",
       "      <td>-0.185839</td>\n",
       "      <td>6.534900</td>\n",
       "    </tr>\n",
       "  </tbody>\n",
       "</table>\n",
       "<p>5 rows × 67 columns</p>\n",
       "</div>"
      ],
      "text/plain": [
       "      account length  international plan  voice mail plan  \\\n",
       "561        -1.215926           -0.328029         1.620867   \n",
       "1764       -0.613634           -0.328029        -0.616954   \n",
       "1733        0.716426           -0.328029        -0.616954   \n",
       "3168        2.498205           -0.328029        -0.616954   \n",
       "562        -0.061534           -0.328029         1.620867   \n",
       "\n",
       "      number vmail messages  total day minutes  total day calls  \\\n",
       "561                0.719950          -0.594966         0.326270   \n",
       "1764              -0.591007           1.193361        -0.660331   \n",
       "1733              -0.591007          -1.003882        -1.498942   \n",
       "3168              -0.591007           0.842602         0.474261   \n",
       "562                1.448259           0.384616        -0.611001   \n",
       "\n",
       "      total day charge  total eve minutes  total eve calls  total eve charge  \\\n",
       "561          -0.594598           2.150149        -0.806009          2.150108   \n",
       "1764          1.192879           1.045323        -0.856365          1.045630   \n",
       "1733         -1.004050           1.373411        -0.050659          1.373485   \n",
       "3168          0.842226           1.934718        -0.705295          1.933863   \n",
       "562           0.384666           1.244943         0.805404          1.245598   \n",
       "\n",
       "      ...  state_SD  state_TN  state_TX  state_UT  state_VA  state_VT  \\\n",
       "561   ... -0.131031 -0.126515 -0.147809 -0.160559 -0.156833 -0.151736   \n",
       "1764  ... -0.131031 -0.126515 -0.147809 -0.160559 -0.156833 -0.151736   \n",
       "1733  ... -0.131031 -0.126515 -0.147809 -0.160559 -0.156833 -0.151736   \n",
       "3168  ... -0.131031 -0.126515  6.765496 -0.160559 -0.156833 -0.151736   \n",
       "562   ... -0.131031 -0.126515 -0.147809 -0.160559 -0.156833 -0.151736   \n",
       "\n",
       "      state_WA  state_WI  state_WV  state_WY  \n",
       "561  -0.133962 -0.151736 -0.185839 -0.153025  \n",
       "1764 -0.133962 -0.151736 -0.185839 -0.153025  \n",
       "1733  7.464811 -0.151736 -0.185839 -0.153025  \n",
       "3168 -0.133962 -0.151736 -0.185839 -0.153025  \n",
       "562  -0.133962 -0.151736 -0.185839  6.534900  \n",
       "\n",
       "[5 rows x 67 columns]"
      ]
     },
     "execution_count": 94,
     "metadata": {},
     "output_type": "execute_result"
    }
   ],
   "source": [
    "#we can see that we have successfully scaled our OneHotEncoded training data\n",
    "\n",
    "X_train_oh_sc.head()"
   ]
  },
  {
   "cell_type": "code",
   "execution_count": 95,
   "metadata": {},
   "outputs": [],
   "source": [
    "#now let's try to do something about the class imbalance using SMOTE\n",
    "\n",
    "from imblearn.over_sampling import SMOTE\n",
    "\n",
    "sm = SMOTE(random_state=2021)\n",
    "\n",
    "X_train_oh_sc_resamp, y_train_resamp = sm.fit_resample(X_train_oh_sc, y_train)"
   ]
  },
  {
   "cell_type": "code",
   "execution_count": 96,
   "metadata": {},
   "outputs": [
    {
     "data": {
      "text/html": [
       "<div>\n",
       "<style scoped>\n",
       "    .dataframe tbody tr th:only-of-type {\n",
       "        vertical-align: middle;\n",
       "    }\n",
       "\n",
       "    .dataframe tbody tr th {\n",
       "        vertical-align: top;\n",
       "    }\n",
       "\n",
       "    .dataframe thead th {\n",
       "        text-align: right;\n",
       "    }\n",
       "</style>\n",
       "<table border=\"1\" class=\"dataframe\">\n",
       "  <thead>\n",
       "    <tr style=\"text-align: right;\">\n",
       "      <th></th>\n",
       "      <th>account length</th>\n",
       "      <th>international plan</th>\n",
       "      <th>voice mail plan</th>\n",
       "      <th>number vmail messages</th>\n",
       "      <th>total day minutes</th>\n",
       "      <th>total day calls</th>\n",
       "      <th>total day charge</th>\n",
       "      <th>total eve minutes</th>\n",
       "      <th>total eve calls</th>\n",
       "      <th>total eve charge</th>\n",
       "      <th>...</th>\n",
       "      <th>state_SD</th>\n",
       "      <th>state_TN</th>\n",
       "      <th>state_TX</th>\n",
       "      <th>state_UT</th>\n",
       "      <th>state_VA</th>\n",
       "      <th>state_VT</th>\n",
       "      <th>state_WA</th>\n",
       "      <th>state_WI</th>\n",
       "      <th>state_WV</th>\n",
       "      <th>state_WY</th>\n",
       "    </tr>\n",
       "  </thead>\n",
       "  <tbody>\n",
       "    <tr>\n",
       "      <th>0</th>\n",
       "      <td>-1.215926</td>\n",
       "      <td>-0.328029</td>\n",
       "      <td>1.620867</td>\n",
       "      <td>0.719950</td>\n",
       "      <td>-0.594966</td>\n",
       "      <td>0.326270</td>\n",
       "      <td>-0.594598</td>\n",
       "      <td>2.150149</td>\n",
       "      <td>-0.806009</td>\n",
       "      <td>2.150108</td>\n",
       "      <td>...</td>\n",
       "      <td>-0.131031</td>\n",
       "      <td>-0.126515</td>\n",
       "      <td>-0.147809</td>\n",
       "      <td>-0.160559</td>\n",
       "      <td>-0.156833</td>\n",
       "      <td>-0.151736</td>\n",
       "      <td>-0.133962</td>\n",
       "      <td>-0.151736</td>\n",
       "      <td>-0.185839</td>\n",
       "      <td>-0.153025</td>\n",
       "    </tr>\n",
       "    <tr>\n",
       "      <th>1</th>\n",
       "      <td>-0.613634</td>\n",
       "      <td>-0.328029</td>\n",
       "      <td>-0.616954</td>\n",
       "      <td>-0.591007</td>\n",
       "      <td>1.193361</td>\n",
       "      <td>-0.660331</td>\n",
       "      <td>1.192879</td>\n",
       "      <td>1.045323</td>\n",
       "      <td>-0.856365</td>\n",
       "      <td>1.045630</td>\n",
       "      <td>...</td>\n",
       "      <td>-0.131031</td>\n",
       "      <td>-0.126515</td>\n",
       "      <td>-0.147809</td>\n",
       "      <td>-0.160559</td>\n",
       "      <td>-0.156833</td>\n",
       "      <td>-0.151736</td>\n",
       "      <td>-0.133962</td>\n",
       "      <td>-0.151736</td>\n",
       "      <td>-0.185839</td>\n",
       "      <td>-0.153025</td>\n",
       "    </tr>\n",
       "    <tr>\n",
       "      <th>2</th>\n",
       "      <td>0.716426</td>\n",
       "      <td>-0.328029</td>\n",
       "      <td>-0.616954</td>\n",
       "      <td>-0.591007</td>\n",
       "      <td>-1.003882</td>\n",
       "      <td>-1.498942</td>\n",
       "      <td>-1.004050</td>\n",
       "      <td>1.373411</td>\n",
       "      <td>-0.050659</td>\n",
       "      <td>1.373485</td>\n",
       "      <td>...</td>\n",
       "      <td>-0.131031</td>\n",
       "      <td>-0.126515</td>\n",
       "      <td>-0.147809</td>\n",
       "      <td>-0.160559</td>\n",
       "      <td>-0.156833</td>\n",
       "      <td>-0.151736</td>\n",
       "      <td>7.464811</td>\n",
       "      <td>-0.151736</td>\n",
       "      <td>-0.185839</td>\n",
       "      <td>-0.153025</td>\n",
       "    </tr>\n",
       "    <tr>\n",
       "      <th>3</th>\n",
       "      <td>2.498205</td>\n",
       "      <td>-0.328029</td>\n",
       "      <td>-0.616954</td>\n",
       "      <td>-0.591007</td>\n",
       "      <td>0.842602</td>\n",
       "      <td>0.474261</td>\n",
       "      <td>0.842226</td>\n",
       "      <td>1.934718</td>\n",
       "      <td>-0.705295</td>\n",
       "      <td>1.933863</td>\n",
       "      <td>...</td>\n",
       "      <td>-0.131031</td>\n",
       "      <td>-0.126515</td>\n",
       "      <td>6.765496</td>\n",
       "      <td>-0.160559</td>\n",
       "      <td>-0.156833</td>\n",
       "      <td>-0.151736</td>\n",
       "      <td>-0.133962</td>\n",
       "      <td>-0.151736</td>\n",
       "      <td>-0.185839</td>\n",
       "      <td>-0.153025</td>\n",
       "    </tr>\n",
       "    <tr>\n",
       "      <th>4</th>\n",
       "      <td>-0.061534</td>\n",
       "      <td>-0.328029</td>\n",
       "      <td>1.620867</td>\n",
       "      <td>1.448259</td>\n",
       "      <td>0.384616</td>\n",
       "      <td>-0.611001</td>\n",
       "      <td>0.384666</td>\n",
       "      <td>1.244943</td>\n",
       "      <td>0.805404</td>\n",
       "      <td>1.245598</td>\n",
       "      <td>...</td>\n",
       "      <td>-0.131031</td>\n",
       "      <td>-0.126515</td>\n",
       "      <td>-0.147809</td>\n",
       "      <td>-0.160559</td>\n",
       "      <td>-0.156833</td>\n",
       "      <td>-0.151736</td>\n",
       "      <td>-0.133962</td>\n",
       "      <td>-0.151736</td>\n",
       "      <td>-0.185839</td>\n",
       "      <td>6.534900</td>\n",
       "    </tr>\n",
       "  </tbody>\n",
       "</table>\n",
       "<p>5 rows × 67 columns</p>\n",
       "</div>"
      ],
      "text/plain": [
       "   account length  international plan  voice mail plan  number vmail messages  \\\n",
       "0       -1.215926           -0.328029         1.620867               0.719950   \n",
       "1       -0.613634           -0.328029        -0.616954              -0.591007   \n",
       "2        0.716426           -0.328029        -0.616954              -0.591007   \n",
       "3        2.498205           -0.328029        -0.616954              -0.591007   \n",
       "4       -0.061534           -0.328029         1.620867               1.448259   \n",
       "\n",
       "   total day minutes  total day calls  total day charge  total eve minutes  \\\n",
       "0          -0.594966         0.326270         -0.594598           2.150149   \n",
       "1           1.193361        -0.660331          1.192879           1.045323   \n",
       "2          -1.003882        -1.498942         -1.004050           1.373411   \n",
       "3           0.842602         0.474261          0.842226           1.934718   \n",
       "4           0.384616        -0.611001          0.384666           1.244943   \n",
       "\n",
       "   total eve calls  total eve charge  ...  state_SD  state_TN  state_TX  \\\n",
       "0        -0.806009          2.150108  ... -0.131031 -0.126515 -0.147809   \n",
       "1        -0.856365          1.045630  ... -0.131031 -0.126515 -0.147809   \n",
       "2        -0.050659          1.373485  ... -0.131031 -0.126515 -0.147809   \n",
       "3        -0.705295          1.933863  ... -0.131031 -0.126515  6.765496   \n",
       "4         0.805404          1.245598  ... -0.131031 -0.126515 -0.147809   \n",
       "\n",
       "   state_UT  state_VA  state_VT  state_WA  state_WI  state_WV  state_WY  \n",
       "0 -0.160559 -0.156833 -0.151736 -0.133962 -0.151736 -0.185839 -0.153025  \n",
       "1 -0.160559 -0.156833 -0.151736 -0.133962 -0.151736 -0.185839 -0.153025  \n",
       "2 -0.160559 -0.156833 -0.151736  7.464811 -0.151736 -0.185839 -0.153025  \n",
       "3 -0.160559 -0.156833 -0.151736 -0.133962 -0.151736 -0.185839 -0.153025  \n",
       "4 -0.160559 -0.156833 -0.151736 -0.133962 -0.151736 -0.185839  6.534900  \n",
       "\n",
       "[5 rows x 67 columns]"
      ]
     },
     "execution_count": 96,
     "metadata": {},
     "output_type": "execute_result"
    }
   ],
   "source": [
    "X_train_oh_sc_resamp.head()"
   ]
  },
  {
   "cell_type": "code",
   "execution_count": 97,
   "metadata": {},
   "outputs": [
    {
     "data": {
      "text/plain": [
       "0    2850\n",
       "1     483\n",
       "Name: churn, dtype: int64"
      ]
     },
     "execution_count": 97,
     "metadata": {},
     "output_type": "execute_result"
    }
   ],
   "source": [
    "#lets check to see if we balanced our classes\n",
    "\n",
    "df.churn.value_counts()"
   ]
  },
  {
   "cell_type": "code",
   "execution_count": 98,
   "metadata": {},
   "outputs": [
    {
     "data": {
      "text/plain": [
       "1    2270\n",
       "0    2270\n",
       "Name: churn, dtype: int64"
      ]
     },
     "execution_count": 98,
     "metadata": {},
     "output_type": "execute_result"
    }
   ],
   "source": [
    "y_train_resamp.value_counts()"
   ]
  },
  {
   "cell_type": "code",
   "execution_count": 99,
   "metadata": {},
   "outputs": [
    {
     "data": {
      "text/plain": [
       "0.798237885462555"
      ]
     },
     "execution_count": 99,
     "metadata": {},
     "output_type": "execute_result"
    }
   ],
   "source": [
    "#the first model we're going to checkout is a LogisticRegression\n",
    "\n",
    "from sklearn.linear_model import LogisticRegression\n",
    "\n",
    "log1 = LogisticRegression(random_state=2021)\n",
    "log1.fit(X_train_oh_sc_resamp, y_train_resamp)\n",
    "log1.score(X_train_oh_sc_resamp, y_train_resamp)\n",
    "\n",
    "#score gives us our accuracy, comparing it to what it fit on in preparation for unseen data"
   ]
  },
  {
   "cell_type": "code",
   "execution_count": 100,
   "metadata": {},
   "outputs": [
    {
     "data": {
      "text/plain": [
       "array([0.78269485, 0.79643093, 0.79048249])"
      ]
     },
     "execution_count": 100,
     "metadata": {},
     "output_type": "execute_result"
    }
   ],
   "source": [
    "#the next thing we will do is check our f1 score using cross_val_score\n",
    "\n",
    "from sklearn.model_selection import cross_val_score\n",
    "\n",
    "all_features_cross_val_score = cross_val_score(log1, X_train_oh_sc_resamp, y_train_resamp, cv=3)\n",
    "all_features_cross_val_score\n",
    "\n",
    "#f1 score gives us a balance between recall and accuracy"
   ]
  },
  {
   "cell_type": "code",
   "execution_count": 101,
   "metadata": {},
   "outputs": [
    {
     "data": {
      "text/plain": [
       "{'account length': 0.05465803660831661,\n",
       " 'international plan': 0.8643214342535465,\n",
       " 'voice mail plan': -1.0711561540621855,\n",
       " 'number vmail messages': 0.5833956886122196,\n",
       " 'total day minutes': 0.4340366106210175,\n",
       " 'total day calls': 0.13459785202522626,\n",
       " 'total day charge': 0.4364428169395637,\n",
       " 'total eve minutes': 0.2441232588375694,\n",
       " 'total eve calls': 0.04343982996400333,\n",
       " 'total eve charge': 0.19552916020418074,\n",
       " 'total night minutes': 0.061636974815759776,\n",
       " 'total night calls': -0.0330775687848651,\n",
       " 'total night charge': 0.120504044650966,\n",
       " 'total intl minutes': 0.08417780777778124,\n",
       " 'total intl calls': -0.20176042838853372,\n",
       " 'total intl charge': 0.11572075198029565,\n",
       " 'customer service calls': 0.9224756204837488,\n",
       " 'state_AL': -0.19695803241769763,\n",
       " 'state_AR': -0.11870998456433077,\n",
       " 'state_AZ': -0.21820736138398855,\n",
       " 'state_CA': -0.007653722948586534,\n",
       " 'state_CO': -0.09376945413983571,\n",
       " 'state_CT': -0.06862379551398427,\n",
       " 'state_DC': -0.035934708182815016,\n",
       " 'state_DE': -0.11591257634456187,\n",
       " 'state_FL': -0.11225533552254204,\n",
       " 'state_GA': -0.1230770826771515,\n",
       " 'state_HI': -0.28822980460679276,\n",
       " 'state_IA': -0.2189503869421113,\n",
       " 'state_ID': -0.052067678745411315,\n",
       " 'state_IL': -0.47615808272561627,\n",
       " 'state_IN': -0.14404718938587366,\n",
       " 'state_KS': -0.13275662680565922,\n",
       " 'state_KY': -0.1383619140270367,\n",
       " 'state_LA': -0.19767580382468383,\n",
       " 'state_MA': 0.006359173088373753,\n",
       " 'state_MD': -0.09561780694437244,\n",
       " 'state_ME': -0.031344145195332525,\n",
       " 'state_MI': -0.04475111931445505,\n",
       " 'state_MN': -0.08997110722518718,\n",
       " 'state_MO': -0.23516580824963118,\n",
       " 'state_MS': 0.0339091953344427,\n",
       " 'state_MT': 0.1160445716571879,\n",
       " 'state_NC': -0.15041799867841998,\n",
       " 'state_ND': -0.11502698355669273,\n",
       " 'state_NE': -0.15855667890530148,\n",
       " 'state_NH': 0.018037306775368196,\n",
       " 'state_NJ': -0.01940820240327665,\n",
       " 'state_NM': -0.16910881816476933,\n",
       " 'state_NV': -0.06070982105563326,\n",
       " 'state_NY': -0.026700613399044833,\n",
       " 'state_OH': -0.09748790609468524,\n",
       " 'state_OK': -0.13997992585447655,\n",
       " 'state_OR': -0.1252720049780493,\n",
       " 'state_PA': -0.0693855249780221,\n",
       " 'state_RI': -0.3250245767917228,\n",
       " 'state_SC': 0.037861537667070455,\n",
       " 'state_SD': -0.07221316067317722,\n",
       " 'state_TN': -0.19516134807960445,\n",
       " 'state_TX': -0.06943674298205064,\n",
       " 'state_UT': -0.07900381481399842,\n",
       " 'state_VA': -0.4457724438516671,\n",
       " 'state_VT': -0.16534082081602763,\n",
       " 'state_WA': -0.05619879421749988,\n",
       " 'state_WI': -0.15079131101957885,\n",
       " 'state_WV': -0.18138335316453594,\n",
       " 'state_WY': -0.1323141577097756}"
      ]
     },
     "execution_count": 101,
     "metadata": {},
     "output_type": "execute_result"
    }
   ],
   "source": [
    "coef_log1 = {}\n",
    "for coef, feat in zip(log1.coef_[0,:],X_train_oh_sc_resamp.columns):\n",
    "    coef_log1[feat] = coef\n",
    "    \n",
    "log1_dict = coef_log1\n",
    "\n",
    "log1_dict"
   ]
  },
  {
   "cell_type": "code",
   "execution_count": 102,
   "metadata": {},
   "outputs": [
    {
     "name": "stdout",
     "output_type": "stream",
     "text": [
      "Old: [0.78269485 0.79643093 0.79048249]\n",
      "New: [0.78137384 0.79841375 0.79180436]\n"
     ]
    }
   ],
   "source": [
    "log2 = LogisticRegression(class_weight='balanced', solver='liblinear', penalty='l1', C=0.5)\n",
    "log2.fit(X_train_oh_sc_resamp, y_train_resamp)\n",
    "\n",
    "print(\"Old:\", all_features_cross_val_score)\n",
    "print(\"New:\", cross_val_score(log2, X_train_oh_sc_resamp, y_train_resamp, cv=3))"
   ]
  },
  {
   "cell_type": "code",
   "execution_count": 103,
   "metadata": {},
   "outputs": [
    {
     "data": {
      "text/plain": [
       "{'account length': 0.052572462257851706,\n",
       " 'international plan': 0.8543858795196344,\n",
       " 'voice mail plan': -0.9790994058597706,\n",
       " 'number vmail messages': 0.4946822170215518,\n",
       " 'total day minutes': 0.21026301877437395,\n",
       " 'total day calls': 0.12153872715981144,\n",
       " 'total day charge': 0.6470725510736858,\n",
       " 'total eve minutes': 0.2962397552015591,\n",
       " 'total eve calls': 0.03956513370320751,\n",
       " 'total eve charge': 0.12966622277732934,\n",
       " 'total night minutes': 0.030739809449108053,\n",
       " 'total night calls': -0.02977110661163085,\n",
       " 'total night charge': 0.14036658929561194,\n",
       " 'total intl minutes': 0.17909513948693973,\n",
       " 'total intl calls': -0.20061915480695847,\n",
       " 'total intl charge': 0.012999650354176061,\n",
       " 'customer service calls': 0.917990057079267,\n",
       " 'state_AL': -0.12340464456389266,\n",
       " 'state_AR': -0.0591154764233462,\n",
       " 'state_AZ': -0.15025484236130535,\n",
       " 'state_CA': 0.035954340619644906,\n",
       " 'state_CO': -0.03113463789125026,\n",
       " 'state_CT': -0.0018518902406324067,\n",
       " 'state_DC': 0.019985208111648337,\n",
       " 'state_DE': -0.05432271484957185,\n",
       " 'state_FL': -0.04994911874113289,\n",
       " 'state_GA': -0.06554239356958345,\n",
       " 'state_HI': -0.22719668153069414,\n",
       " 'state_IA': -0.15801126277584793,\n",
       " 'state_ID': 0.013072153897089015,\n",
       " 'state_IL': -0.4029616863272872,\n",
       " 'state_IN': -0.07355947696733132,\n",
       " 'state_KS': -0.06249686614169689,\n",
       " 'state_KY': -0.07493773889746234,\n",
       " 'state_LA': -0.13786278497028387,\n",
       " 'state_MA': 0.06360770498997506,\n",
       " 'state_MD': -0.026920352441098073,\n",
       " 'state_ME': 0.030625467277952425,\n",
       " 'state_MI': 0.02136143609524066,\n",
       " 'state_MN': -0.015449440905619538,\n",
       " 'state_MO': -0.16662211353665213,\n",
       " 'state_MS': 0.09180014926695731,\n",
       " 'state_MT': 0.1721670318263097,\n",
       " 'state_NC': -0.08375225137332427,\n",
       " 'state_ND': -0.04872415110725219,\n",
       " 'state_NE': -0.09133288179604934,\n",
       " 'state_NH': 0.06830588502243078,\n",
       " 'state_NJ': 0.0433451883338636,\n",
       " 'state_NM': -0.10278193815402993,\n",
       " 'state_NV': -0.0011128082445476914,\n",
       " 'state_NY': 0.03946468553340689,\n",
       " 'state_OH': -0.025712000851994755,\n",
       " 'state_OK': -0.0752240479316951,\n",
       " 'state_OR': -0.05454005967927796,\n",
       " 'state_PA': -0.01407120010232836,\n",
       " 'state_RI': -0.25171192684052407,\n",
       " 'state_SC': 0.09520664711750419,\n",
       " 'state_SD': -0.009225706262524315,\n",
       " 'state_TN': -0.13278213323134067,\n",
       " 'state_TX': -0.00040553549734636483,\n",
       " 'state_UT': -0.005211186554113766,\n",
       " 'state_VA': -0.36402826707973,\n",
       " 'state_VT': -0.09378800375170758,\n",
       " 'state_WA': 0.0010493673971242183,\n",
       " 'state_WI': -0.08161795023130058,\n",
       " 'state_WV': -0.09677983663382059,\n",
       " 'state_WY': -0.06106685686529065}"
      ]
     },
     "execution_count": 103,
     "metadata": {},
     "output_type": "execute_result"
    }
   ],
   "source": [
    "coef_log2 = {}\n",
    "for coef, feat in zip(log2.coef_[0,:],X_train_oh_sc_resamp.columns):\n",
    "    coef_log2[feat] = coef\n",
    "    \n",
    "log1_dict = coef_log2\n",
    "\n",
    "log1_dict"
   ]
  },
  {
   "cell_type": "code",
   "execution_count": 104,
   "metadata": {},
   "outputs": [
    {
     "name": "stdout",
     "output_type": "stream",
     "text": [
      "Old: [0.78269485 0.79643093 0.79048249]\n",
      "New: [0.95112285 0.94315929 0.957039  ]\n"
     ]
    }
   ],
   "source": [
    "#next model we want to checkout is ExtraTrees\n",
    "\n",
    "from sklearn.ensemble import ExtraTreesClassifier\n",
    "\n",
    "etc1 = ExtraTreesClassifier()\n",
    "etc1.fit(X_train_oh_sc_resamp, y_train_resamp)\n",
    "\n",
    "print(\"Old:\", all_features_cross_val_score)\n",
    "print(\"New:\", cross_val_score(etc1, X_train_oh_sc_resamp, y_train_resamp, cv=3))"
   ]
  },
  {
   "cell_type": "code",
   "execution_count": 105,
   "metadata": {},
   "outputs": [
    {
     "name": "stdout",
     "output_type": "stream",
     "text": [
      "Old: [0.78269485 0.79643093 0.79048249]\n",
      "New: [0.82892999 0.83542631 0.8559154 ]\n"
     ]
    }
   ],
   "source": [
    "#let's checkout KNN\n",
    "\n",
    "from sklearn.neighbors import KNeighborsClassifier\n",
    "\n",
    "knc1 = KNeighborsClassifier()\n",
    "knc1.fit(X_train_oh_sc_resamp, y_train_resamp)\n",
    "\n",
    "print(\"Old:\", all_features_cross_val_score)\n",
    "print(\"New:\", cross_val_score(knc1, X_train_oh_sc_resamp, y_train_resamp, cv=3))"
   ]
  },
  {
   "cell_type": "code",
   "execution_count": 106,
   "metadata": {},
   "outputs": [
    {
     "name": "stdout",
     "output_type": "stream",
     "text": [
      "Old: [0.78269485 0.79643093 0.79048249]\n",
      "New: [-0.0634439   0.57372578  0.        ]\n"
     ]
    }
   ],
   "source": [
    "#now let's try svm vector\n",
    "\n",
    "from sklearn import svm\n",
    "\n",
    "svr1 = svm.SVR()\n",
    "svr1.fit(X_train_oh_sc_resamp, y_train_resamp)\n",
    "\n",
    "print(\"Old:\", all_features_cross_val_score)\n",
    "print(\"New:\", cross_val_score(svr1, X_train_oh_sc_resamp, y_train_resamp, cv=3))"
   ]
  },
  {
   "cell_type": "code",
   "execution_count": 107,
   "metadata": {},
   "outputs": [
    {
     "name": "stdout",
     "output_type": "stream",
     "text": [
      "Old: [0.78269485 0.79643093 0.79048249]\n",
      "New: [0.90356671 0.93588896 0.93258427]\n"
     ]
    }
   ],
   "source": [
    "#not so good, lets take a look at RandomForest\n",
    "\n",
    "from sklearn.ensemble import RandomForestClassifier\n",
    "\n",
    "rfc1 = RandomForestClassifier(random_state=2021)\n",
    "rfc1.fit(X_train_oh_sc_resamp, y_train_resamp)\n",
    "\n",
    "print(\"Old:\", all_features_cross_val_score)\n",
    "print(\"New:\", cross_val_score(rfc1, X_train_oh_sc_resamp, y_train_resamp, cv=3))"
   ]
  },
  {
   "cell_type": "code",
   "execution_count": 108,
   "metadata": {},
   "outputs": [
    {
     "name": "stdout",
     "output_type": "stream",
     "text": [
      "Old: [0.78269485 0.79643093 0.79048249]\n",
      "New: [0.87318362 0.91275611 0.90680767]\n"
     ]
    }
   ],
   "source": [
    "#let's checkout how DecisionTree performs\n",
    "\n",
    "from sklearn.tree import DecisionTreeClassifier\n",
    "\n",
    "dtc1 = DecisionTreeClassifier(random_state=2021)\n",
    "dtc1.fit(X_train_oh_sc_resamp, y_train_resamp)\n",
    "\n",
    "print(\"Old:\", all_features_cross_val_score)\n",
    "print(\"New:\", cross_val_score(dtc1, X_train_oh_sc_resamp, y_train_resamp, cv=3))"
   ]
  },
  {
   "cell_type": "code",
   "execution_count": 109,
   "metadata": {},
   "outputs": [
    {
     "ename": "AttributeError",
     "evalue": "'DecisionTreeClassifier' object has no attribute 'coef_'",
     "output_type": "error",
     "traceback": [
      "\u001b[0;31m---------------------------------------------------------------------------\u001b[0m",
      "\u001b[0;31mAttributeError\u001b[0m                            Traceback (most recent call last)",
      "\u001b[0;32m<ipython-input-109-b2b1d1f9a739>\u001b[0m in \u001b[0;36m<module>\u001b[0;34m()\u001b[0m\n\u001b[1;32m      1\u001b[0m \u001b[0mcoef_dtc1\u001b[0m \u001b[0;34m=\u001b[0m \u001b[0;34m{\u001b[0m\u001b[0;34m}\u001b[0m\u001b[0;34m\u001b[0m\u001b[0;34m\u001b[0m\u001b[0m\n\u001b[0;32m----> 2\u001b[0;31m \u001b[0;32mfor\u001b[0m \u001b[0mcoef\u001b[0m\u001b[0;34m,\u001b[0m \u001b[0mfeat\u001b[0m \u001b[0;32min\u001b[0m \u001b[0mzip\u001b[0m\u001b[0;34m(\u001b[0m\u001b[0mdtc1\u001b[0m\u001b[0;34m.\u001b[0m\u001b[0mcoef_\u001b[0m\u001b[0;34m[\u001b[0m\u001b[0;36m0\u001b[0m\u001b[0;34m,\u001b[0m\u001b[0;34m:\u001b[0m\u001b[0;34m]\u001b[0m\u001b[0;34m,\u001b[0m\u001b[0mX_train_oh_sc_resamp\u001b[0m\u001b[0;34m.\u001b[0m\u001b[0mcolumns\u001b[0m\u001b[0;34m)\u001b[0m\u001b[0;34m:\u001b[0m\u001b[0;34m\u001b[0m\u001b[0;34m\u001b[0m\u001b[0m\n\u001b[0m\u001b[1;32m      3\u001b[0m     \u001b[0mcoef_dtc1\u001b[0m\u001b[0;34m[\u001b[0m\u001b[0mfeat\u001b[0m\u001b[0;34m]\u001b[0m \u001b[0;34m=\u001b[0m \u001b[0mcoef\u001b[0m\u001b[0;34m\u001b[0m\u001b[0;34m\u001b[0m\u001b[0m\n\u001b[1;32m      4\u001b[0m \u001b[0;34m\u001b[0m\u001b[0m\n\u001b[1;32m      5\u001b[0m \u001b[0mdtc1_dict\u001b[0m \u001b[0;34m=\u001b[0m \u001b[0mcoef_dtc1\u001b[0m\u001b[0;34m\u001b[0m\u001b[0;34m\u001b[0m\u001b[0m\n",
      "\u001b[0;31mAttributeError\u001b[0m: 'DecisionTreeClassifier' object has no attribute 'coef_'"
     ]
    }
   ],
   "source": [
    "coef_dtc1 = {}\n",
    "for coef, feat in zip(dtc1.coef_[0,:],X_train_oh_sc_resamp.columns):\n",
    "    coef_dtc1[feat] = coef\n",
    "    \n",
    "dtc1_dict = coef_dtc1\n",
    "\n",
    "dtc1_dict"
   ]
  },
  {
   "cell_type": "code",
   "execution_count": null,
   "metadata": {},
   "outputs": [],
   "source": []
  }
 ],
 "metadata": {
  "kernelspec": {
   "display_name": "learn-env",
   "language": "python",
   "name": "learn-env"
  },
  "language_info": {
   "codemirror_mode": {
    "name": "ipython",
    "version": 3
   },
   "file_extension": ".py",
   "mimetype": "text/x-python",
   "name": "python",
   "nbconvert_exporter": "python",
   "pygments_lexer": "ipython3",
   "version": "3.6.9"
  }
 },
 "nbformat": 4,
 "nbformat_minor": 4
}
